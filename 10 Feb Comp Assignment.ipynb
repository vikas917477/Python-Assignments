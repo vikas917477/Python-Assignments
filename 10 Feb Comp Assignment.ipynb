{
 "cells": [
  {
   "cell_type": "markdown",
   "id": "36c2d498",
   "metadata": {},
   "source": [
    "# OOPs assignment"
   ]
  },
  {
   "cell_type": "markdown",
   "id": "3e7e87bd",
   "metadata": {},
   "source": [
    "Q1. Which function is used to open a file? What are the different modes of opening a file? Explain each mode\n",
    "of file opening."
   ]
  },
  {
   "cell_type": "markdown",
   "id": "634446c4",
   "metadata": {},
   "source": [
    "- The open function is used to open a file in Python. The different modes in which you can open a file in Python are:\n",
    "\n",
    "1.'r' (Read Only): This mode opens the file for reading. If the file does not exist, a FileNotFoundError is raised.\n",
    "\n",
    "2.'w' (Write Only): This mode opens the file for writing. If the file exists, its content is truncated and overwritten. If the file does not exist, a new file is created.\n",
    "\n",
    "3.'a' (Append Only): This mode opens the file for writing, but the writing is done at the end of the file, preserving the existing content of the file. If the file does not exist, a new file is created.\n",
    "\n",
    "4.'x' (Exclusive Creation): This mode is similar to the 'w' mode, but it raises a FileExistsError if the file already exists.\n",
    "\n",
    "5.'b' (Binary): This mode is used to open a binary file, such as an image or a audio file. You can open a binary file in either 'rb' (Read Only Binary) or 'wb' (Write Only Binary) mode.\n",
    "\n",
    "6.'+' (Read and Write): This mode opens the file for both reading and writing. You can open a file in either 'r+' (Read and Write), 'w+' (Write and Read), or 'a+' (Append and Read) mode."
   ]
  },
  {
   "cell_type": "code",
   "execution_count": null,
   "id": "0aaef4ee",
   "metadata": {},
   "outputs": [],
   "source": []
  },
  {
   "cell_type": "markdown",
   "id": "e814229b",
   "metadata": {},
   "source": [
    "Q2. Why close() function is used? Why is it important to close a file?"
   ]
  },
  {
   "cell_type": "markdown",
   "id": "aa76a077",
   "metadata": {},
   "source": [
    "- close() function is used to close an open file in Python. It is important to close a file after you are done with it because:\n",
    "\n",
    "It frees up the resources that the file was using, such as memory and file handles. This can help prevent resource exhaustion and performance degradation.\n",
    "\n",
    "It ensures that any changes you have made to the file are saved and persisted to disk. If you do not close the file, any changes you make may be lost.\n",
    "\n",
    "It makes the file available for other processes or threads to access. If you do not close the file, it will remain locked until your process terminates.\n",
    "\n",
    "It helps to prevent data corruption, especially when working with binary files. Closing a file ensures that the file is flushed and the data is written to disk in a consistent state."
   ]
  },
  {
   "cell_type": "code",
   "execution_count": null,
   "id": "0ab0e479",
   "metadata": {},
   "outputs": [],
   "source": []
  },
  {
   "cell_type": "markdown",
   "id": "36fcb090",
   "metadata": {},
   "source": [
    "Q3. Write a python program to create a text file. Write ‘I want to become a Data Scientist’ in that file. Then\n",
    "close the file. Open this file and read the content of the file."
   ]
  },
  {
   "cell_type": "code",
   "execution_count": 4,
   "id": "65c2591d",
   "metadata": {},
   "outputs": [
    {
     "name": "stdout",
     "output_type": "stream",
     "text": [
      "I want to become a Data Scientist\n"
     ]
    }
   ],
   "source": [
    "with open(\"text_file.txt\", \"w\") as f:\n",
    "    f.write(\"I want to become a Data Scientist\")\n",
    "with open(\"text_file.txt\", \"r\") as f:\n",
    "    content = f.read()\n",
    "\n",
    "print(content)"
   ]
  },
  {
   "cell_type": "code",
   "execution_count": null,
   "id": "1e8b02b3",
   "metadata": {},
   "outputs": [],
   "source": []
  },
  {
   "cell_type": "markdown",
   "id": "ae4edb6b",
   "metadata": {},
   "source": [
    "Q4. Explain the following with python code: read(), readline() and readlines()."
   ]
  },
  {
   "cell_type": "markdown",
   "id": "baab387b",
   "metadata": {},
   "source": [
    "- read() method: This method reads the entire contents of a file and returns it as a single string."
   ]
  },
  {
   "cell_type": "code",
   "execution_count": 6,
   "id": "734b8ca3",
   "metadata": {},
   "outputs": [
    {
     "name": "stdout",
     "output_type": "stream",
     "text": [
      "I want to become a Data Scientist\n"
     ]
    }
   ],
   "source": [
    "with open(\"text_file.txt\", \"r\") as f:\n",
    "    content = f.read()\n",
    "    print(content)"
   ]
  },
  {
   "cell_type": "markdown",
   "id": "a8684829",
   "metadata": {},
   "source": [
    "- readline() method: This method reads a single line from the file and returns it as a string."
   ]
  },
  {
   "cell_type": "code",
   "execution_count": null,
   "id": "87e6b491",
   "metadata": {},
   "outputs": [],
   "source": [
    "with open(\"text_file.txt\", \"r\") as f:\n",
    "    line = f.readline()\n",
    "    while line:\n",
    "        print(line)\n",
    "        line = f.readline()"
   ]
  },
  {
   "cell_type": "markdown",
   "id": "d1eb40c9",
   "metadata": {},
   "source": [
    "- readlines() method: This method reads all the lines in the file and returns a list of strings, where each string is a line from the file. "
   ]
  },
  {
   "cell_type": "code",
   "execution_count": 8,
   "id": "56f0acd4",
   "metadata": {},
   "outputs": [
    {
     "name": "stdout",
     "output_type": "stream",
     "text": [
      "I want to become a Data Scientist\n"
     ]
    }
   ],
   "source": [
    "with open(\"text_file.txt\", \"r\") as f:\n",
    "    lines = f.readlines()\n",
    "    for line in lines:\n",
    "        print(line)"
   ]
  },
  {
   "cell_type": "code",
   "execution_count": null,
   "id": "73454574",
   "metadata": {},
   "outputs": [],
   "source": []
  },
  {
   "cell_type": "markdown",
   "id": "b9b4467d",
   "metadata": {},
   "source": [
    "Q5. Explain why with statement is used with open(). What is the advantage of using with statement and\n",
    "open() together?"
   ]
  },
  {
   "cell_type": "markdown",
   "id": "00a77f2b",
   "metadata": {},
   "source": [
    "- The with statement is used with open() in Python to automatically close a file when it's no longer needed. \n",
    "- The advantage of using this construct is that it ensures that the file is properly closed, even if an exception occurs during the execution of the code block."
   ]
  },
  {
   "cell_type": "code",
   "execution_count": 10,
   "id": "79fc0467",
   "metadata": {},
   "outputs": [
    {
     "name": "stdout",
     "output_type": "stream",
     "text": [
      "I want to become a Data Scientist\n"
     ]
    }
   ],
   "source": [
    "with open(\"text_file.txt\", \"r\") as file:\n",
    "    content = file.read()\n",
    "    print(content)\n"
   ]
  },
  {
   "cell_type": "code",
   "execution_count": null,
   "id": "9612dc6f",
   "metadata": {},
   "outputs": [],
   "source": []
  },
  {
   "cell_type": "markdown",
   "id": "067d599a",
   "metadata": {},
   "source": [
    "Q6. Explain the write() and writelines() functions. Give a suitable example."
   ]
  },
  {
   "cell_type": "markdown",
   "id": "8860744f",
   "metadata": {},
   "source": [
    "- The write() and writelines() functions are used in Python to write data to a text file.\n",
    "\n",
    "The write() function is used to write a string to a text file. It takes a single string argument and writes it to the file."
   ]
  },
  {
   "cell_type": "code",
   "execution_count": 11,
   "id": "f6252b7c",
   "metadata": {},
   "outputs": [],
   "source": [
    "with open(\"text_file.txt\", \"w\") as file:\n",
    "    file.write(\"I want to become a Data Scientist\")\n"
   ]
  },
  {
   "cell_type": "markdown",
   "id": "5dfff072",
   "metadata": {},
   "source": [
    "- The writelines() function is used to write a list of strings to a text file. It takes a list of strings as an argument and writes each string to a new line in the file."
   ]
  },
  {
   "cell_type": "code",
   "execution_count": 21,
   "id": "0c1f0359",
   "metadata": {},
   "outputs": [
    {
     "name": "stdout",
     "output_type": "stream",
     "text": [
      "I want to become a Data ScientistData Science is the future\n"
     ]
    }
   ],
   "source": [
    "lines = [\"I want to become a Data Scientist\", \"Data Science is the future\"]\n",
    "\n",
    "with open(\"text_file.txt\", \"w\") as file:\n",
    "    file.writelines(lines)\n",
    "with open(\"text_file.txt\", \"r\") as file:\n",
    "    contents = file.read()\n",
    "    print(contents)"
   ]
  },
  {
   "cell_type": "markdown",
   "id": "e27c670a",
   "metadata": {},
   "source": [
    "ThankYou\n",
    "Sudhansu Sir"
   ]
  },
  {
   "cell_type": "code",
   "execution_count": null,
   "id": "9abe3f08",
   "metadata": {},
   "outputs": [],
   "source": []
  }
 ],
 "metadata": {
  "kernelspec": {
   "display_name": "Python 3 (ipykernel)",
   "language": "python",
   "name": "python3"
  },
  "language_info": {
   "codemirror_mode": {
    "name": "ipython",
    "version": 3
   },
   "file_extension": ".py",
   "mimetype": "text/x-python",
   "name": "python",
   "nbconvert_exporter": "python",
   "pygments_lexer": "ipython3",
   "version": "3.9.12"
  }
 },
 "nbformat": 4,
 "nbformat_minor": 5
}
