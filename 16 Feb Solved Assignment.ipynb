{
 "cells": [
  {
   "cell_type": "markdown",
   "id": "1200445e",
   "metadata": {},
   "source": [
    "# MySql\n",
    "- Assignment Questions"
   ]
  },
  {
   "cell_type": "code",
   "execution_count": null,
   "id": "8bf01663",
   "metadata": {},
   "outputs": [],
   "source": []
  },
  {
   "cell_type": "raw",
   "id": "c1f0b65c",
   "metadata": {},
   "source": [
    "Q1. What is a database? Differentiate between SQL and NoSQL databases."
   ]
  },
  {
   "cell_type": "markdown",
   "id": "0a55ff99",
   "metadata": {},
   "source": [
    "A1. A database is an organized collection of data that is stored and managed on a computer system. It is designed to store, retrieve, and manage large amounts of data in an efficient and reliable manner. A database management system (DBMS) is used to manage a database.\n",
    "\n",
    "SQL and NoSQL are two types of database management systems that differ in their data models, structures, and use cases. Here are the main differences between SQL and NoSQL databases:\n",
    "\n",
    "1. Data Model: SQL databases are based on the relational data model, which organizes data into tables with predefined columns and relationships between tables. NoSQL databases, on the other hand, use non-relational data models, such as document-oriented, key-value, or graph databases.\n",
    "\n",
    "2. Structure: SQL databases have a predefined schema, which means that the structure of the data is determined in advance and must be consistent for all the data stored in the database. NoSQL databases, however, have a flexible schema, which means that data can be added or removed without having to define a strict structure in advance.\n",
    "\n",
    "3. Query Language: SQL databases use the Structured Query Language (SQL) to manage and retrieve data. This language is standardized and widely used, making it easy to learn and work with. NoSQL databases use different query languages, depending on the type of database, and these languages are often specific to the database.\n",
    "\n",
    "4. Scalability: SQL databases are vertically scalable, which means that they can be scaled up by adding more resources, such as CPU or RAM, to the server. NoSQL databases, on the other hand, are horizontally scalable, which means that they can be scaled out by adding more servers to the cluster.\n",
    "\n",
    "5. Use Cases: SQL databases are commonly used for applications that require complex querying and transactional support, such as e-commerce, finance, and human resources. NoSQL databases are commonly used for applications that require high performance, scalability, and flexibility, such as social media, gaming, and big data.\n",
    "\n",
    "In summary, SQL databases are best suited for applications that require complex querying and transactional support, while NoSQL databases are best suited for applications that require high performance, scalability, and flexibility."
   ]
  },
  {
   "cell_type": "code",
   "execution_count": null,
   "id": "e2b60f9d",
   "metadata": {},
   "outputs": [],
   "source": []
  },
  {
   "cell_type": "raw",
   "id": "9806d759",
   "metadata": {},
   "source": [
    "Q2. What is DDL? Explain why CREATE, DROP, ALTER, and TRUNCATE are used with an example."
   ]
  },
  {
   "cell_type": "markdown",
   "id": "d817ca34",
   "metadata": {},
   "source": [
    "A2. DDL stands for Data Definition Language and is used to define, modify, and manage the structure of a database. DDL statements are used to create, modify, or delete database objects such as tables, views, indexes, and stored procedures.\n",
    "\n",
    "Here are some common DDL statements and their uses:\n",
    "\n",
    "1. CREATE: This statement is used to create a new database object, such as a table or index. For example, the following statement creates a new table named \"customers\":"
   ]
  },
  {
   "cell_type": "code",
   "execution_count": null,
   "id": "c80dd8cd",
   "metadata": {},
   "outputs": [],
   "source": [
    "conda install -c anaconda mysql-connector-python"
   ]
  },
  {
   "cell_type": "code",
   "execution_count": null,
   "id": "7b5fd5f9",
   "metadata": {},
   "outputs": [],
   "source": []
  }
 ],
 "metadata": {
  "kernelspec": {
   "display_name": "Python 3 (ipykernel)",
   "language": "python",
   "name": "python3"
  },
  "language_info": {
   "codemirror_mode": {
    "name": "ipython",
    "version": 3
   },
   "file_extension": ".py",
   "mimetype": "text/x-python",
   "name": "python",
   "nbconvert_exporter": "python",
   "pygments_lexer": "ipython3",
   "version": "3.9.12"
  }
 },
 "nbformat": 4,
 "nbformat_minor": 5
}
