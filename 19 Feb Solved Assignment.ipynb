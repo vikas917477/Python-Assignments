{
 "cells": [
  {
   "cell_type": "markdown",
   "id": "90aae3d8",
   "metadata": {},
   "source": [
    "# Flask-1\n",
    "Assignment Questions"
   ]
  },
  {
   "cell_type": "raw",
   "id": "ad37ed07",
   "metadata": {},
   "source": [
    "Q1. What is Flask Framework? What are the advantages of Flask Framework?"
   ]
  },
  {
   "cell_type": "markdown",
   "id": "531f77ad",
   "metadata": {},
   "source": [
    "Flask is a popular micro web framework for Python that is designed to be simple and lightweight. Flask provides the basic tools and features needed to build web applications, such as routing, request handling, and templating, while leaving the implementation details up to the developer.\n",
    "\n",
    "Advantages of Flask Framework:\n",
    "\n",
    "1. Lightweight: Flask is a lightweight framework that doesn't have a lot of overhead, which makes it easy to learn and use.\n",
    "\n",
    "2. Flexibility: Flask is highly flexible and can be easily customized and extended to meet the needs of different types of applications.\n",
    "\n",
    "3. Easy to learn: Flask has a simple and intuitive API that is easy to learn and use, even for beginners.\n",
    "\n",
    "4. Modular design: Flask has a modular design that makes it easy to add and remove features as needed, which can simplify development and reduce code complexity.\n",
    "\n",
    "5. Extensive documentation: Flask has extensive documentation and a large community of developers, which makes it easy to find help and support when needed.\n",
    "\n",
    "6. Support for extensions: Flask has a wide range of extensions and plugins that can be easily integrated into applications, such as support for databases, authentication, and testing.\n",
    "\n",
    "Overall, Flask is a popular choice for building web applications due to its simplicity, flexibility, and ease of use. It is a great option for developers who want to quickly build simple web applications, as well as those who want to build more complex and customizable applications."
   ]
  },
  {
   "cell_type": "code",
   "execution_count": null,
   "id": "a9da0187",
   "metadata": {},
   "outputs": [],
   "source": []
  },
  {
   "cell_type": "raw",
   "id": "f781db7a",
   "metadata": {},
   "source": [
    "Q2. Create a simple Flask application to display ‘Hello World!!’. Attach the screenshot of the output in \n",
    "Jupyter Notebook."
   ]
  },
  {
   "cell_type": "code",
   "execution_count": null,
   "id": "bc44604e",
   "metadata": {},
   "outputs": [],
   "source": [
    "pip install flask"
   ]
  },
  {
   "cell_type": "code",
   "execution_count": null,
   "id": "9f24beeb",
   "metadata": {},
   "outputs": [],
   "source": [
    "from flask import Flask\n",
    "from flask import request\n",
    "\n",
    "app = Flask(__name__)\n",
    "\n",
    "@app.route(\"/\")\n",
    "def hello_world():\n",
    "    return \"<h1>Hello, World!</h1>\"\n",
    "\n",
    "\n",
    "@app.route(\"/hello_world1\")\n",
    "def hello_world1():\n",
    "    return \"<h1>Hello, World!1</h1>\"\n",
    "\n",
    "\n",
    "@app.route(\"/hello_world2\")\n",
    "def hello_world2():\n",
    "    return \"<h1>Hello, World!2</h1>\"\n",
    "\n",
    "@app.route(\"/test\")\n",
    "def test():\n",
    "    a = 5+6 \n",
    "    return \"this is my function to run app {}\".format(a)\n",
    "\n",
    "@app.route(\"/test2/test2\")\n",
    "def test2():\n",
    "    data = request.args.get('x')\n",
    "    return  \"this is a data input form my url {}\".format(data)\n",
    "\n",
    "if __name__==\"__main__\":\n",
    "    app.run(host=\"0.0.0.0\")"
   ]
  },
  {
   "cell_type": "code",
   "execution_count": null,
   "id": "32ca3f3f",
   "metadata": {},
   "outputs": [],
   "source": []
  }
 ],
 "metadata": {
  "kernelspec": {
   "display_name": "Python 3 (ipykernel)",
   "language": "python",
   "name": "python3"
  },
  "language_info": {
   "codemirror_mode": {
    "name": "ipython",
    "version": 3
   },
   "file_extension": ".py",
   "mimetype": "text/x-python",
   "name": "python",
   "nbconvert_exporter": "python",
   "pygments_lexer": "ipython3",
   "version": "3.9.12"
  }
 },
 "nbformat": 4,
 "nbformat_minor": 5
}
