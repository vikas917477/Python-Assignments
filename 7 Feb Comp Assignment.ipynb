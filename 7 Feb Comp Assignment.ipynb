{
 "cells": [
  {
   "cell_type": "markdown",
   "id": "926c74e9",
   "metadata": {},
   "source": [
    "Q2. Solve the below-given questions using at least one of the following:\n",
    "1. Lambda functioJ\n",
    "2. Filter functioJ\n",
    "3. Zap functioJ\n",
    "4. List ComprehensioI\n",
    "-  Check if the string starts with a particular letterY\n",
    "-  Check if the string is numericY\n",
    "-  \n",
    "\n",
    "- Sort a list of tuples having fruit names and their quantity. [(\"mango\",99),(\"orange\",80), (\"grapes\", 1000)-\n",
    "- Find the squares of numbers from 1 to 10Y\n",
    "- Find the cube root of numbers from 1 to 10Y\n",
    "- Check if a given number is evenY\n",
    "- Filter odd numbers from the given list.\n",
    "    [1,2,3,4,5,6,7,8,9,10]\n",
    "- Sort a list of integers into positive and negative integers lists.\n",
    "    [1,2,3,4,5,6,-1,-2,-3,-4,-5,0]"
   ]
  },
  {
   "cell_type": "code",
   "execution_count": 4,
   "id": "6ac04064",
   "metadata": {},
   "outputs": [
    {
     "name": "stdout",
     "output_type": "stream",
     "text": [
      "String starts with 'H'\n"
     ]
    }
   ],
   "source": [
    "# Check if the string starts with a particular letter:\n",
    "string = \"Hello World\"\n",
    "if string.startswith(\"H\"):\n",
    "    print(\"String starts with 'H'\")\n",
    "else:\n",
    "    print(\"String does not start with 'H'\")\n"
   ]
  },
  {
   "cell_type": "code",
   "execution_count": 5,
   "id": "82e20521",
   "metadata": {},
   "outputs": [
    {
     "name": "stdout",
     "output_type": "stream",
     "text": [
      "True\n"
     ]
    }
   ],
   "source": [
    "#or using Lambda function:\n",
    "string = \"Hello World\"\n",
    "start_with_h = lambda x: True if x.startswith(\"H\") else False\n",
    "print(start_with_h(string))\n"
   ]
  },
  {
   "cell_type": "code",
   "execution_count": 19,
   "id": "21392829",
   "metadata": {},
   "outputs": [
    {
     "name": "stdout",
     "output_type": "stream",
     "text": [
      "String is numeric\n"
     ]
    }
   ],
   "source": [
    "# Check if the string is numeric:\n",
    "string = \"123456\"\n",
    "if string.isdigit():\n",
    "    print(\"String is numeric\")\n",
    "else:\n",
    "    print(\"String is not numeric\")"
   ]
  },
  {
   "cell_type": "code",
   "execution_count": 18,
   "id": "ff977530",
   "metadata": {},
   "outputs": [
    {
     "name": "stdout",
     "output_type": "stream",
     "text": [
      "True\n"
     ]
    }
   ],
   "source": [
    "#or using Lambda function:\n",
    "string = \"123456\"\n",
    "is_numeric = lambda x: True if x.isdigit() else False\n",
    "print(is_numeric(string))"
   ]
  },
  {
   "cell_type": "markdown",
   "id": "edc3f7cb",
   "metadata": {},
   "source": [
    "3. Sort a list of tuples having fruit names and their quantity:"
   ]
  },
  {
   "cell_type": "code",
   "execution_count": 8,
   "id": "9f832183",
   "metadata": {},
   "outputs": [
    {
     "name": "stdout",
     "output_type": "stream",
     "text": [
      "[('orange', 80), ('mango', 99), ('grapes', 1000)]\n"
     ]
    }
   ],
   "source": [
    "fruits = [(\"mango\", 99), (\"orange\", 80), (\"grapes\", 1000)]\n",
    "sorted_fruits = sorted(fruits, key=lambda x: x[1])\n",
    "print(sorted_fruits)\n"
   ]
  },
  {
   "cell_type": "markdown",
   "id": "9ea9576e",
   "metadata": {},
   "source": [
    "4. Find the squares of numbers from 1 to 10:"
   ]
  },
  {
   "cell_type": "code",
   "execution_count": 9,
   "id": "918d49f9",
   "metadata": {},
   "outputs": [
    {
     "name": "stdout",
     "output_type": "stream",
     "text": [
      "[1, 4, 9, 16, 25, 36, 49, 64, 81, 100]\n"
     ]
    }
   ],
   "source": [
    "numbers = [1, 2, 3, 4, 5, 6, 7, 8, 9, 10]\n",
    "squared_numbers = [x**2 for x in numbers]\n",
    "print(squared_numbers)\n"
   ]
  },
  {
   "cell_type": "code",
   "execution_count": 10,
   "id": "43432fcb",
   "metadata": {},
   "outputs": [
    {
     "name": "stdout",
     "output_type": "stream",
     "text": [
      "[1, 4, 9, 16, 25, 36, 49, 64, 81, 100]\n"
     ]
    }
   ],
   "source": [
    "# or using Lambda function:\n",
    "numbers = [1, 2, 3, 4, 5, 6, 7, 8, 9, 10]\n",
    "squared_numbers = list(map(lambda x: x**2, numbers))\n",
    "print(squared_numbers)\n"
   ]
  },
  {
   "cell_type": "markdown",
   "id": "f77cca0b",
   "metadata": {},
   "source": [
    "5. Find the cube root of numbers from 1 to 10:"
   ]
  },
  {
   "cell_type": "code",
   "execution_count": 11,
   "id": "ed2f0805",
   "metadata": {},
   "outputs": [
    {
     "name": "stdout",
     "output_type": "stream",
     "text": [
      "[1.0, 1.2599210498948732, 1.4422495703074083, 1.5874010519681994, 1.7099759466766968, 1.8171205928321397, 1.912931182772389, 2.0, 2.080083823051904, 2.154434690031884]\n"
     ]
    }
   ],
   "source": [
    "import math\n",
    "numbers = [1, 2, 3, 4, 5, 6, 7, 8, 9, 10]\n",
    "cuberoot_numbers = [math.pow(x, 1/3) for x in numbers]\n",
    "print(cuberoot_numbers)\n"
   ]
  },
  {
   "cell_type": "code",
   "execution_count": 12,
   "id": "165d6a75",
   "metadata": {},
   "outputs": [
    {
     "name": "stdout",
     "output_type": "stream",
     "text": [
      "[1.0, 1.2599210498948732, 1.4422495703074083, 1.5874010519681994, 1.7099759466766968, 1.8171205928321397, 1.912931182772389, 2.0, 2.080083823051904, 2.154434690031884]\n"
     ]
    }
   ],
   "source": [
    "# or using Lambda function:\n",
    "import math\n",
    "numbers = [1, 2, 3, 4, 5, 6, 7, 8, 9, 10]\n",
    "cuberoot_numbers = list(map(lambda x: math.pow(x, 1/3), numbers))\n",
    "print(cuberoot_numbers)\n"
   ]
  },
  {
   "cell_type": "markdown",
   "id": "cb63b83e",
   "metadata": {},
   "source": [
    "6. Check if a given number is even:"
   ]
  },
  {
   "cell_type": "code",
   "execution_count": 13,
   "id": "0a2d0f21",
   "metadata": {},
   "outputs": [
    {
     "name": "stdout",
     "output_type": "stream",
     "text": [
      "Number is even\n"
     ]
    }
   ],
   "source": [
    "number = 4\n",
    "if number % 2 == 0:\n",
    "    print(\"Number is even\")\n",
    "else:\n",
    "    print(\"Number is odd\")\n"
   ]
  },
  {
   "cell_type": "code",
   "execution_count": 14,
   "id": "fdccc45e",
   "metadata": {},
   "outputs": [
    {
     "name": "stdout",
     "output_type": "stream",
     "text": [
      "True\n"
     ]
    }
   ],
   "source": [
    "# or using Lambda function:\n",
    "number = 4\n",
    "is_even = lambda x: True if x % 2 == 0 else False\n",
    "print(is_even(number))\n"
   ]
  },
  {
   "cell_type": "markdown",
   "id": "49d1cb09",
   "metadata": {},
   "source": [
    "7. Filter odd numbers from the given list:"
   ]
  },
  {
   "cell_type": "code",
   "execution_count": 15,
   "id": "44c6f33a",
   "metadata": {},
   "outputs": [
    {
     "name": "stdout",
     "output_type": "stream",
     "text": [
      "[1, 3, 5, 7, 9]\n"
     ]
    }
   ],
   "source": [
    "numbers = [1, 2, 3, 4, 5, 6, 7, 8, 9, 10]\n",
    "odd_numbers = list(filter(lambda x: x % 2 != 0, numbers))\n",
    "print(odd_numbers)\n"
   ]
  },
  {
   "cell_type": "markdown",
   "id": "0a6a3f6f",
   "metadata": {},
   "source": [
    "1. Lambda function\n",
    "B Sort a list of integers into positive and negative integers lists.\n",
    "[1,2,3,4,5,6,-1,-2,-3,-4,-5,0]\n",
    "\n",
    "-  solved using a lambda function and the filter() function."
   ]
  },
  {
   "cell_type": "code",
   "execution_count": 17,
   "id": "043aa6cd",
   "metadata": {},
   "outputs": [
    {
     "name": "stdout",
     "output_type": "stream",
     "text": [
      "Positive Numbers: [1, 2, 3, 4, 5, 6]\n",
      "Negative Numbers: [-1, -2, -3, -4, -5]\n"
     ]
    }
   ],
   "source": [
    "numbers = [1,2,3,4,5,6,-1,-2,-3,-4,-5,0]\n",
    "\n",
    "positive_numbers = list(filter(lambda x: x > 0, numbers))\n",
    "negative_numbers = list(filter(lambda x: x < 0, numbers))\n",
    "\n",
    "print(\"Positive Numbers:\", positive_numbers)\n",
    "print(\"Negative Numbers:\", negative_numbers)\n"
   ]
  },
  {
   "cell_type": "markdown",
   "id": "c4436bec",
   "metadata": {},
   "source": [
    "Q1. You are writing code for a company. The requirement of the company is that you create a python\n",
    "function that will check whether the password entered by the user is correct or not. The function should\n",
    "take the password as input and return the string “Valid Password” if the entered password follows the\n",
    "below-given password guidelines else it should return “Invalid Password”.\n",
    "Note: \n",
    "- 1. The Password should contain at least two uppercase letters and at least two lowercase letters.\n",
    "- 2. The Password should contain at least a number and three special characters.\n",
    "- 3. The length of the password should be 10 characters long."
   ]
  },
  {
   "cell_type": "code",
   "execution_count": 22,
   "id": "086c6fa4",
   "metadata": {},
   "outputs": [
    {
     "name": "stdout",
     "output_type": "stream",
     "text": [
      "Invalid Password\n",
      "Invalid Password\n",
      "Invalid Password\n"
     ]
    }
   ],
   "source": [
    "import re\n",
    "\n",
    "def check_password(password):\n",
    "    # Check if password meets length requirement of 10 characters\n",
    "    if len(password) < 10:\n",
    "        return \"Invalid Password\"\n",
    "    \n",
    "    # Check if password contains at least 2 uppercase letters and 2 lowercase letters\n",
    "    if not re.search(\"[A-Z]{2,}\", password) or not re.search(\"[a-z]{2,}\", password):\n",
    "        return \"Invalid Password\"\n",
    "    \n",
    "    # Return \"Valid Password\" if all checks pass\n",
    "    return \"Valid Password\"\n",
    "\n",
    "print(check_password(\"MyPassword1\")) # Output: \"Valid Password\"\n",
    "print(check_password(\"mypassword1\")) # Output: \"Invalid Password\"\n",
    "print(check_password(\"Mypassword\")) # Output: \"Invalid Password\"\n"
   ]
  },
  {
   "cell_type": "code",
   "execution_count": 25,
   "id": "31d49be3",
   "metadata": {},
   "outputs": [
    {
     "data": {
      "text/plain": [
       "'Invalid Password'"
      ]
     },
     "execution_count": 25,
     "metadata": {},
     "output_type": "execute_result"
    }
   ],
   "source": [
    "# 2. The Password should contain at least a number and three special characters.\n",
    "import re\n",
    "\n",
    "def password_checker(password):\n",
    "    # Check if the password contains at least two uppercase letters and two lowercase letters\n",
    "    if not re.search(\"[a-z]{2,}\", password) or not re.search(\"[A-Z]{2,}\", password):\n",
    "        return \"Invalid Password\"\n",
    "    \n",
    "    # Check if the password contains at least a number and three special characters\n",
    "    if not re.search(\"\\d+\", password) or not re.search(\"[!@#$%^&*]+\", password, re.I) or len(re.findall(\"[!@#$%^&*]+\", password, re.I))<3:\n",
    "        return \"Invalid Password\"\n",
    "    \n",
    "    return \"Valid Password\"\n",
    "password_checker(\"Password1@\")\n",
    "password_checker(\"Password@1\")\n"
   ]
  },
  {
   "cell_type": "code",
   "execution_count": 29,
   "id": "d205f0c6",
   "metadata": {},
   "outputs": [],
   "source": [
    "# 3. The length of the password should be 10 characters long.\n",
    "\n",
    "import re\n",
    "\n",
    "def check_password(password):\n",
    "    # check if password is 10 characters long\n",
    "    if len(password) != 10:\n",
    "        return \"Invalid Password\"\n",
    "\n",
    "    # check if password contains at least 2 uppercase letters and 2 lowercase letters\n",
    "    upper_letters = re.findall(r'[A-Z]', password)\n",
    "    lower_letters = re.findall(r'[a-z]', password)\n",
    "    if len(upper_letters) < 2 or len(lower_letters) < 2:\n",
    "        return \"Invalid Password\"\n",
    "\n",
    "    # check if password contains at least a number and three special characters\n",
    "    numbers = re.findall(r'\\d', password)\n",
    "    special_characters = re.findall(r'[!@#$%^&*(),.?\":{}|<>]', password)\n",
    "    if len(numbers) < 1 or len(special_characters) < 3:\n",
    "        return \"Invalid Password\"\n",
    "\n",
    "    return \"Valid Password\""
   ]
  },
  {
   "cell_type": "code",
   "execution_count": 31,
   "id": "c1844c10",
   "metadata": {},
   "outputs": [
    {
     "name": "stdout",
     "output_type": "stream",
     "text": [
      "Enter the password: dojaa123\n",
      "Invalid Password\n"
     ]
    }
   ],
   "source": [
    "import re\n",
    "\n",
    "def check_password(password):\n",
    "    if len(password) != 10:\n",
    "        return \"Invalid Password\"\n",
    "    else:\n",
    "        return \"Valid Password\"\n",
    "\n",
    "password = input(\"Enter the password: \")\n",
    "print(check_password(password))\n"
   ]
  },
  {
   "cell_type": "markdown",
   "id": "ad675e52",
   "metadata": {},
   "source": [
    "- This code will take the password as input from the user and check if its length is 10 characters. If the length is not 10 characters, it returns \"Invalid Password\". Else, it returns \"Valid Password\"."
   ]
  },
  {
   "cell_type": "code",
   "execution_count": null,
   "id": "bff43d57",
   "metadata": {},
   "outputs": [],
   "source": []
  }
 ],
 "metadata": {
  "kernelspec": {
   "display_name": "Python 3 (ipykernel)",
   "language": "python",
   "name": "python3"
  },
  "language_info": {
   "codemirror_mode": {
    "name": "ipython",
    "version": 3
   },
   "file_extension": ".py",
   "mimetype": "text/x-python",
   "name": "python",
   "nbconvert_exporter": "python",
   "pygments_lexer": "ipython3",
   "version": "3.9.12"
  }
 },
 "nbformat": 4,
 "nbformat_minor": 5
}
