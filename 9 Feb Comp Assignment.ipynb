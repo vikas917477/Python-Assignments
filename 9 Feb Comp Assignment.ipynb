{
 "cells": [
  {
   "cell_type": "markdown",
   "id": "07db08f5",
   "metadata": {},
   "source": [
    "Q1, Create a vehicle class with an init method having instance variables as name_of_vehicle, max_speed\n",
    "and average_of_vehicle."
   ]
  },
  {
   "cell_type": "code",
   "execution_count": 29,
   "id": "44137d32",
   "metadata": {},
   "outputs": [],
   "source": [
    "class Vehicle:\n",
    "    def __init__(self, name_of_vehicle, max_speed, average_of_vehicle):\n",
    "        self.name_of_vehicle = name_of_vehicle\n",
    "        self.max_speed = max_speed\n",
    "        self.average_of_vehicle = average_of_vehicle\n"
   ]
  },
  {
   "cell_type": "markdown",
   "id": "161e9f2a",
   "metadata": {},
   "source": [
    "Q2. Create a child class car from the vehicle class created in Que 1, which will inherit the vehicle class.\n",
    "Create a method named seating_capacity which takes capacity as an argument and returns the name of\n",
    "the vehicle and its seating capacity."
   ]
  },
  {
   "cell_type": "code",
   "execution_count": 37,
   "id": "6ae26b52",
   "metadata": {},
   "outputs": [
    {
     "name": "stdout",
     "output_type": "stream",
     "text": [
      "SUV has a seating capacity of 5.\n",
      "SUV\n",
      "180\n",
      "15\n"
     ]
    }
   ],
   "source": [
    "# Define the classes\n",
    "class Vehicle:\n",
    "    def __init__(self, name_of_vehicle, max_speed, average_of_vehicle):\n",
    "        self.name_of_vehicle = name_of_vehicle\n",
    "        self.max_speed = max_speed\n",
    "        self.average_of_vehicle = average_of_vehicle\n",
    "\n",
    "class Car(Vehicle):\n",
    "    def seating_capacity(self, capacity):\n",
    "        return f\"{self.name_of_vehicle} has a seating capacity of {capacity}.\"\n",
    "\n",
    "# Create an instance of the Car class\n",
    "suv = Car(\"SUV\", 180, 15)\n",
    "\n",
    "# Call the seating_capacity method\n",
    "print(suv.seating_capacity(5))\n",
    "\n",
    "# Access the instance variables\n",
    "print(suv.name_of_vehicle)\n",
    "print(suv.max_speed)\n",
    "print(suv.average_of_vehicle)\n"
   ]
  },
  {
   "cell_type": "code",
   "execution_count": null,
   "id": "490e13dd",
   "metadata": {},
   "outputs": [],
   "source": []
  },
  {
   "cell_type": "markdown",
   "id": "3e49844f",
   "metadata": {},
   "source": [
    "Q3. What is multiple inheritance? Write a python code to demonstrate multiple inheritance."
   ]
  },
  {
   "cell_type": "markdown",
   "id": "4a28820a",
   "metadata": {},
   "source": [
    "- Multiple inheritance is a feature of object-oriented programming (OOP) where a single class can inherit from multiple parent classes. This allows the derived class to inherit the properties and methods of multiple base classes."
   ]
  },
  {
   "cell_type": "code",
   "execution_count": 12,
   "id": "5181a79f",
   "metadata": {},
   "outputs": [
    {
     "name": "stdout",
     "output_type": "stream",
     "text": [
      "Tarbo engine started.\n",
      "EMD chassis is moving.\n",
      "Car model: MahindraX2\n"
     ]
    }
   ],
   "source": [
    "class Engine:\n",
    "    def __init__(self, engine_type):\n",
    "        self.engine_type = engine_type\n",
    "    \n",
    "    def start(self):\n",
    "        return f\"{self.engine_type} engine started.\"\n",
    "\n",
    "class Chassis:\n",
    "    def __init__(self, chassis_type):\n",
    "        self.chassis_type = chassis_type\n",
    "    \n",
    "    def move(self):\n",
    "        return f\"{self.chassis_type} chassis is moving.\"\n",
    "\n",
    "class Car(Engine, Chassis):\n",
    "    def __init__(self, engine_type, chassis_type, car_model):\n",
    "        Engine.__init__(self, engine_type)\n",
    "        Chassis.__init__(self, chassis_type)\n",
    "        self.car_model = car_model\n",
    "    \n",
    "    def display_car_model(self):\n",
    "        return f\"Car model: {self.car_model}\"\n",
    "    \n",
    "my_car = Car(\"Tarbo\", \"EMD\", \"MahindraX2\")\n",
    "print(my_car.start())\n",
    "print(my_car.move())\n",
    "print(my_car.display_car_model())"
   ]
  },
  {
   "cell_type": "code",
   "execution_count": 18,
   "id": "64993a2e",
   "metadata": {},
   "outputs": [
    {
     "name": "stdout",
     "output_type": "stream",
     "text": [
      "Inside Person class\n",
      "Name: Sudhansu Age: 30\n",
      "Inside Company class\n",
      "Name: PwSkills location: Banglore\n",
      "Inside Employee class\n",
      "Salary: 102000 Skill: AI Engineer\n"
     ]
    }
   ],
   "source": [
    "# Parent class 1\n",
    "class Person:\n",
    "    def person_info(self, name, age):\n",
    "        print('Inside Person class')\n",
    "        print('Name:', name, 'Age:', age)\n",
    "\n",
    "# Parent class 2\n",
    "class Company:\n",
    "    def company_info(self, company_name, location):\n",
    "        print('Inside Company class')\n",
    "        print('Name:', company_name, 'location:', location)\n",
    "\n",
    "# Child class\n",
    "class Employee(Person, Company):\n",
    "    def Employee_info(self, salary, skill):\n",
    "        print('Inside Employee class')\n",
    "        print('Salary:', salary, 'Skill:', skill)\n",
    "\n",
    "# Create object of Employee\n",
    "emp = Employee()\n",
    "emp.person_info('Sudhansu', 30)\n",
    "emp.company_info('PwSkills', 'Banglore')\n",
    "emp.Employee_info(102000, 'AI Engineer')"
   ]
  },
  {
   "cell_type": "code",
   "execution_count": null,
   "id": "860561a8",
   "metadata": {},
   "outputs": [],
   "source": []
  },
  {
   "cell_type": "markdown",
   "id": "7b7d171f",
   "metadata": {},
   "source": [
    "Q4. What are getter and setter in python? Create a class and create a getter and a setter method in this\n",
    "class."
   ]
  },
  {
   "cell_type": "markdown",
   "id": "e971977b",
   "metadata": {},
   "source": [
    "- In Python, getters and setters are methods that allow you to retrieve (get) or set (modify) the value of an object's properties. They are used to encapsulate the internal representation of an object and to provide controlled access to its properties. "
   ]
  },
  {
   "cell_type": "code",
   "execution_count": 19,
   "id": "06d34a87",
   "metadata": {},
   "outputs": [],
   "source": [
    "class Person:\n",
    "    def __init__(self, name):\n",
    "        self._name = name\n",
    "        \n",
    "    def get_name(self):\n",
    "        return self._name\n",
    "    \n",
    "    def set_name(self, name):\n",
    "        self._name = name\n",
    "        \n",
    "    name = property(get_name, set_name)\n"
   ]
  },
  {
   "cell_type": "code",
   "execution_count": 24,
   "id": "a47238e5",
   "metadata": {},
   "outputs": [
    {
     "name": "stdout",
     "output_type": "stream",
     "text": [
      "5\n",
      "7\n"
     ]
    }
   ],
   "source": [
    "class Circle:\n",
    "    def __init__(self, radius):\n",
    "        self._radius = radius\n",
    "        \n",
    "    def get_radius(self):\n",
    "        return self._radius\n",
    "    \n",
    "    def set_radius(self, radius):\n",
    "        if radius >= 0:\n",
    "            self._radius = radius\n",
    "        else:\n",
    "            raise ValueError(\"Radius cannot be negative.\")\n",
    "    \n",
    "    radius = property(get_radius, set_radius)\n",
    "\n",
    "c = Circle(5)\n",
    "print(c.radius)  \n",
    "c.radius = 7\n",
    "print(c.radius)"
   ]
  },
  {
   "cell_type": "code",
   "execution_count": null,
   "id": "54c9a2c5",
   "metadata": {},
   "outputs": [],
   "source": []
  },
  {
   "cell_type": "markdown",
   "id": "69d1392a",
   "metadata": {},
   "source": [
    "Q5.What is method overriding in python? Write a python code to demonstrate method overriding.\n",
    "\n",
    "- Method overriding is a feature in object-oriented programming (OOP) that allows a subclass to provide a different implementation of a method that is already defined in its superclass."
   ]
  },
  {
   "cell_type": "code",
   "execution_count": 27,
   "id": "d10db5a1",
   "metadata": {},
   "outputs": [
    {
     "name": "stdout",
     "output_type": "stream",
     "text": [
      "25\n",
      "24\n"
     ]
    }
   ],
   "source": [
    "class Shape:\n",
    "    def area(self):\n",
    "        pass\n",
    "\n",
    "class Square(Shape):\n",
    "    def __init__(self, side):\n",
    "        self.side = side\n",
    "    \n",
    "    def area(self):\n",
    "        return self.side ** 2\n",
    "\n",
    "class Rectangle(Shape):\n",
    "    def __init__(self, length, breadth):\n",
    "        self.length = length\n",
    "        self.breadth = breadth\n",
    "    \n",
    "    def area(self):\n",
    "        return self.length * self.breadth\n",
    "\n",
    "s = Square(5)\n",
    "print(s.area())  \n",
    "\n",
    "r = Rectangle(4, 6)\n",
    "print(r.area())"
   ]
  },
  {
   "cell_type": "markdown",
   "id": "018b5669",
   "metadata": {},
   "source": [
    "- the 'Shape' class defines an area method that does nothing. The 'Square' and 'Rectangle' classes inherit from Shape and provide their own implementation of the area method to calculate the area of a square and a rectangle, respectively."
   ]
  },
  {
   "cell_type": "code",
   "execution_count": null,
   "id": "c1d57086",
   "metadata": {},
   "outputs": [],
   "source": []
  }
 ],
 "metadata": {
  "kernelspec": {
   "display_name": "Python 3 (ipykernel)",
   "language": "python",
   "name": "python3"
  },
  "language_info": {
   "codemirror_mode": {
    "name": "ipython",
    "version": 3
   },
   "file_extension": ".py",
   "mimetype": "text/x-python",
   "name": "python",
   "nbconvert_exporter": "python",
   "pygments_lexer": "ipython3",
   "version": "3.9.12"
  }
 },
 "nbformat": 4,
 "nbformat_minor": 5
}
