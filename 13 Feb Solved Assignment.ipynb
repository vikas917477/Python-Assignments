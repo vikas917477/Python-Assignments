{
 "cells": [
  {
   "cell_type": "markdown",
   "id": "28424691",
   "metadata": {},
   "source": [
    "# Exception handling-2"
   ]
  },
  {
   "cell_type": "raw",
   "id": "d0b24aa3",
   "metadata": {},
   "source": [
    "Q1. Explain why we have to use the Exception class while creating a Custom Exception.\n",
    "Note: Here Exception class refers to the base class for all the exceptions."
   ]
  },
  {
   "cell_type": "markdown",
   "id": "6c3873ee",
   "metadata": {},
   "source": [
    "- When creating a custom exception in Python, it is recommended to inherit from the built-in Exception class, or one of its derived classes such as ValueError or TypeError.\n",
    "\n",
    "- By using the Exception class as the base class for our custom exception, we are able to take advantage of the existing functionality provided by the built-in exception classes, such as printing an informative error message and handling the exception gracefully.\n",
    "\n",
    "- Additionally, using the Exception class as the base class ensures that our custom exception follows the same behavior and conventions as the built-in exceptions, making it easier for other developers to understand and use our custom exception in their code."
   ]
  },
  {
   "cell_type": "markdown",
   "id": "a4bb1fa3",
   "metadata": {},
   "source": [
    "- example, if we were to create a custom exception called CustomException, we could define it as follows:"
   ]
  },
  {
   "cell_type": "code",
   "execution_count": 1,
   "id": "064ad17d",
   "metadata": {},
   "outputs": [],
   "source": [
    "class CustomException(Exception):\n",
    "    pass\n"
   ]
  },
  {
   "cell_type": "markdown",
   "id": "2edd779c",
   "metadata": {},
   "source": [
    "- By inheriting from the base Exception class, our custom exception is able to inherit all the properties and methods of the base class, while still allowing us to define custom behavior specific to our use case."
   ]
  },
  {
   "cell_type": "code",
   "execution_count": null,
   "id": "812e23a0",
   "metadata": {},
   "outputs": [],
   "source": []
  },
  {
   "cell_type": "raw",
   "id": "817d59d5",
   "metadata": {},
   "source": [
    "Q2. Write a python program to print Python Exception Hierarchy."
   ]
  },
  {
   "cell_type": "code",
   "execution_count": 3,
   "id": "ed149799",
   "metadata": {},
   "outputs": [
    {
     "name": "stdout",
     "output_type": "stream",
     "text": [
      "BaseException\n",
      "  Exception\n",
      "    TypeError\n",
      "      FloatOperation\n",
      "      MultipartConversionError\n",
      "    StopAsyncIteration\n",
      "    StopIteration\n",
      "    ImportError\n",
      "      ModuleNotFoundError\n",
      "        PackageNotFoundError\n",
      "        PackageNotFoundError\n",
      "      ZipImportError\n",
      "    OSError\n",
      "      ConnectionError\n",
      "        BrokenPipeError\n",
      "        ConnectionAbortedError\n",
      "        ConnectionRefusedError\n",
      "        ConnectionResetError\n",
      "          RemoteDisconnected\n",
      "      BlockingIOError\n",
      "      ChildProcessError\n",
      "      FileExistsError\n",
      "      FileNotFoundError\n",
      "      IsADirectoryError\n",
      "      NotADirectoryError\n",
      "      InterruptedError\n",
      "        InterruptedSystemCall\n",
      "      PermissionError\n",
      "      ProcessLookupError\n",
      "      TimeoutError\n",
      "      UnsupportedOperation\n",
      "      herror\n",
      "      gaierror\n",
      "      timeout\n",
      "      Error\n",
      "        SameFileError\n",
      "      SpecialFileError\n",
      "      ExecError\n",
      "      ReadError\n",
      "      SSLError\n",
      "        SSLCertVerificationError\n",
      "        SSLZeroReturnError\n",
      "        SSLWantReadError\n",
      "        SSLWantWriteError\n",
      "        SSLSyscallError\n",
      "        SSLEOFError\n",
      "      URLError\n",
      "        HTTPError\n",
      "        ContentTooShortError\n",
      "      BadGzipFile\n",
      "    EOFError\n",
      "      IncompleteReadError\n",
      "    RuntimeError\n",
      "      RecursionError\n",
      "      NotImplementedError\n",
      "        ZMQVersionError\n",
      "        StdinNotImplementedError\n",
      "      _DeadlockError\n",
      "      BrokenBarrierError\n",
      "      BrokenExecutor\n",
      "        BrokenThreadPool\n",
      "      SendfileNotAvailableError\n",
      "      ExtractionError\n",
      "      RemovedCommandError\n",
      "      PackageDiscoveryError\n",
      "      VariableError\n",
      "    NameError\n",
      "      UnboundLocalError\n",
      "    AttributeError\n",
      "      FrozenInstanceError\n",
      "    SyntaxError\n",
      "      IndentationError\n",
      "        TabError\n",
      "    LookupError\n",
      "      IndexError\n",
      "      KeyError\n",
      "        NoSuchKernel\n",
      "        UnknownBackend\n",
      "      CodecRegistryError\n",
      "    ValueError\n",
      "      UnicodeError\n",
      "        UnicodeEncodeError\n",
      "        UnicodeDecodeError\n",
      "        UnicodeTranslateError\n",
      "      UnsupportedOperation\n",
      "      JSONDecodeError\n",
      "      SSLCertVerificationError\n",
      "      Error\n",
      "      ClassNotFound\n",
      "      ClipboardEmpty\n",
      "      MessageDefect\n",
      "        NoBoundaryInMultipartDefect\n",
      "        StartBoundaryNotFoundDefect\n",
      "        CloseBoundaryNotFoundDefect\n",
      "        FirstHeaderLineIsContinuationDefect\n",
      "        MisplacedEnvelopeHeaderDefect\n",
      "        MissingHeaderBodySeparatorDefect\n",
      "        MultipartInvariantViolationDefect\n",
      "        InvalidMultipartContentTransferEncodingDefect\n",
      "        UndecodableBytesDefect\n",
      "        InvalidBase64PaddingDefect\n",
      "        InvalidBase64CharactersDefect\n",
      "        InvalidBase64LengthDefect\n",
      "        HeaderDefect\n",
      "          InvalidHeaderDefect\n",
      "          HeaderMissingRequiredValue\n",
      "          NonPrintableDefect\n",
      "          ObsoleteHeaderDefect\n",
      "          NonASCIILocalPartDefect\n",
      "      IllegalMonthError\n",
      "      IllegalWeekdayError\n",
      "      MacroToEdit\n",
      "      ParserError\n",
      "      InvalidFileException\n",
      "      UnequalIterablesError\n",
      "      InvalidVersion\n",
      "      _InvalidELFFileHeader\n",
      "      InvalidWheelFilename\n",
      "      InvalidSdistFilename\n",
      "      InvalidSpecifier\n",
      "      InvalidMarker\n",
      "      UndefinedComparison\n",
      "      UndefinedEnvironmentName\n",
      "      InvalidRequirement\n",
      "        RequirementParseError\n",
      "      UnequalIterablesError\n",
      "      _InvalidELFFileHeader\n",
      "      InvalidVersion\n",
      "      InvalidWheelFilename\n",
      "      InvalidSdistFilename\n",
      "      InvalidSpecifier\n",
      "      InvalidMarker\n",
      "      UndefinedComparison\n",
      "      UndefinedEnvironmentName\n",
      "      InvalidRequirement\n",
      "    AssertionError\n",
      "    ArithmeticError\n",
      "      FloatingPointError\n",
      "      OverflowError\n",
      "      ZeroDivisionError\n",
      "        DivisionByZero\n",
      "        DivisionUndefined\n",
      "      DecimalException\n",
      "        Clamped\n",
      "        Rounded\n",
      "          Underflow\n",
      "          Overflow\n",
      "        Inexact\n",
      "          Underflow\n",
      "          Overflow\n",
      "        Subnormal\n",
      "          Underflow\n",
      "        DivisionByZero\n",
      "        FloatOperation\n",
      "        InvalidOperation\n",
      "          ConversionSyntax\n",
      "          DivisionImpossible\n",
      "          DivisionUndefined\n",
      "          InvalidContext\n",
      "    SystemError\n",
      "      CodecRegistryError\n",
      "    ReferenceError\n",
      "    MemoryError\n",
      "    BufferError\n",
      "    Warning\n",
      "      UserWarning\n",
      "        GetPassWarning\n",
      "        FormatterWarning\n",
      "        _WouldIgnoreField\n",
      "        _ExperimentalProjectMetadata\n",
      "        _InvalidFile\n",
      "      DeprecationWarning\n",
      "        ProvisionalWarning\n",
      "      PendingDeprecationWarning\n",
      "      SyntaxWarning\n",
      "      RuntimeWarning\n",
      "        ProactorSelectorThreadWarning\n",
      "        UnknownTimezoneWarning\n",
      "        PEP440Warning\n",
      "      FutureWarning\n",
      "        ProvisionalCompleterWarning\n",
      "      ImportWarning\n",
      "      UnicodeWarning\n",
      "      BytesWarning\n",
      "      ResourceWarning\n",
      "      DeprecatedTzFormatWarning\n",
      "      SetuptoolsDeprecationWarning\n",
      "        DistDeprecationWarning\n",
      "      PkgResourcesDeprecationWarning\n",
      "    Error\n",
      "    _OptionError\n",
      "    error\n",
      "    Verbose\n",
      "    _Error\n",
      "    SubprocessError\n",
      "      CalledProcessError\n",
      "      TimeoutExpired\n",
      "    _GiveupOnSendfile\n",
      "    error\n",
      "    LZMAError\n",
      "    RegistryError\n",
      "    _GiveupOnFastCopy\n",
      "    ZMQBaseError\n",
      "      ZMQError\n",
      "        ContextTerminated\n",
      "        Again\n",
      "        InterruptedSystemCall\n",
      "      ZMQBindError\n",
      "      NotDone\n",
      "    Error\n",
      "    error\n",
      "    PickleError\n",
      "      PicklingError\n",
      "      UnpicklingError\n",
      "    _Stop\n",
      "    TokenError\n",
      "    StopTokenizing\n",
      "    ClassFoundException\n",
      "    EndOfBlock\n",
      "    TraitError\n",
      "    ArgumentError\n",
      "    ArgumentTypeError\n",
      "    ConfigError\n",
      "      ConfigLoaderError\n",
      "        ArgumentError\n",
      "      ConfigFileNotFound\n",
      "    ConfigurableError\n",
      "      MultipleInstanceError\n",
      "    ApplicationError\n",
      "    NoIPAddresses\n",
      "    Error\n",
      "      CancelledError\n",
      "      TimeoutError\n",
      "      InvalidStateError\n",
      "    Incomplete\n",
      "    TimeoutError\n",
      "    InvalidStateError\n",
      "    LimitOverrunError\n",
      "    QueueEmpty\n",
      "    QueueFull\n",
      "    InvalidPortNumber\n",
      "    Empty\n",
      "    Full\n",
      "    DuplicateKernelError\n",
      "    TimeoutError\n",
      "    COMError\n",
      "    ArgumentError\n",
      "    ReturnValueIgnoredError\n",
      "    KeyReuseError\n",
      "    UnknownKeyError\n",
      "    LeakedCallbackError\n",
      "    BadYieldError\n",
      "    ReturnValueIgnoredError\n",
      "    Return\n",
      "    ErrorDuringImport\n",
      "    NotOneValueFound\n",
      "    CannotEval\n",
      "    OptionError\n",
      "    BdbQuit\n",
      "    Restart\n",
      "    FindCmdError\n",
      "    HomeDirError\n",
      "    ProfileDirError\n",
      "    IPythonCoreError\n",
      "      TryNext\n",
      "      UsageError\n",
      "      StdinNotImplementedError\n",
      "    InputRejected\n",
      "    GetoptError\n",
      "    ErrorToken\n",
      "    PrefilterError\n",
      "    AliasError\n",
      "      InvalidAliasError\n",
      "    Error\n",
      "      InterfaceError\n",
      "      DatabaseError\n",
      "        InternalError\n",
      "        OperationalError\n",
      "        ProgrammingError\n",
      "        IntegrityError\n",
      "        DataError\n",
      "        NotSupportedError\n",
      "    Warning\n",
      "    SpaceInInput\n",
      "    DOMException\n",
      "      IndexSizeErr\n",
      "      DomstringSizeErr\n",
      "      HierarchyRequestErr\n",
      "      WrongDocumentErr\n",
      "      InvalidCharacterErr\n",
      "      NoDataAllowedErr\n",
      "      NoModificationAllowedErr\n",
      "      NotFoundErr\n",
      "      NotSupportedErr\n",
      "      InuseAttributeErr\n",
      "      InvalidStateErr\n",
      "      SyntaxErr\n",
      "      InvalidModificationErr\n",
      "      NamespaceErr\n",
      "      InvalidAccessErr\n",
      "      ValidationErr\n",
      "    ValidationError\n",
      "    EditReadOnlyBuffer\n",
      "    _Retry\n",
      "    InvalidLayoutError\n",
      "    HeightIsUnknownError\n",
      "    ParserSyntaxError\n",
      "    InternalParseError\n",
      "    _PositionUpdatingFinished\n",
      "    SimpleGetItemNotFound\n",
      "    UncaughtAttributeError\n",
      "    HasNoContext\n",
      "    ParamIssue\n",
      "    BadZipFile\n",
      "    LargeZipFile\n",
      "    _JediError\n",
      "      InternalError\n",
      "      WrongVersion\n",
      "      RefactoringError\n",
      "    OnErrorLeaf\n",
      "    InvalidPythonEnvironment\n",
      "    MessageError\n",
      "      MessageParseError\n",
      "        HeaderParseError\n",
      "          _InvalidEwError\n",
      "        BoundaryError\n",
      "      MultipartConversionError\n",
      "      CharsetError\n",
      "    Error\n",
      "    HTTPException\n",
      "      NotConnected\n",
      "      InvalidURL\n",
      "      UnknownProtocol\n",
      "      UnknownTransferEncoding\n",
      "      UnimplementedFileMode\n",
      "      IncompleteRead\n",
      "      ImproperConnectionState\n",
      "        CannotSendRequest\n",
      "        CannotSendHeader\n",
      "        ResponseNotReady\n",
      "      BadStatusLine\n",
      "        RemoteDisconnected\n",
      "      LineTooLong\n",
      "    InteractivelyDefined\n",
      "    KillEmbedded\n",
      "    Error\n",
      "      NoSuchProcess\n",
      "        ZombieProcess\n",
      "      AccessDenied\n",
      "      TimeoutExpired\n",
      "    Error\n",
      "    TimeoutExpired\n",
      "    TimeoutAbandoned\n",
      "    QueueEmpty\n",
      "    QueueFull\n",
      "    DistutilsError\n",
      "      DistutilsModuleError\n",
      "      DistutilsClassError\n",
      "      DistutilsGetoptError\n",
      "      DistutilsArgError\n",
      "      DistutilsFileError\n",
      "      DistutilsOptionError\n",
      "      DistutilsSetupError\n",
      "      DistutilsPlatformError\n",
      "      DistutilsExecError\n",
      "      DistutilsInternalError\n",
      "      DistutilsTemplateError\n",
      "      DistutilsByteCompileError\n",
      "      RemovedCommandError\n",
      "      PackageDiscoveryError\n",
      "    CCompilerError\n",
      "      PreprocessError\n",
      "      CompileError\n",
      "      LibError\n",
      "      LinkError\n",
      "      UnknownFileError\n",
      "    Error\n",
      "      NoSectionError\n",
      "      DuplicateSectionError\n",
      "      DuplicateOptionError\n",
      "      NoOptionError\n",
      "      InterpolationError\n",
      "        InterpolationMissingOptionError\n",
      "        InterpolationSyntaxError\n",
      "        InterpolationDepthError\n",
      "      ParsingError\n",
      "        MissingSectionHeaderError\n",
      "    ExpatError\n",
      "    error\n",
      "    com_error\n",
      "    internal_error\n",
      "    ParseBaseException\n",
      "      ParseException\n",
      "      ParseFatalException\n",
      "        ParseSyntaxException\n",
      "    RecursiveGrammarException\n",
      "    ResolutionError\n",
      "      VersionConflict\n",
      "        ContextualVersionConflict\n",
      "      DistributionNotFound\n",
      "      UnknownExtra\n",
      "    ParseBaseException\n",
      "      ParseException\n",
      "      ParseFatalException\n",
      "        ParseSyntaxException\n",
      "    RecursiveGrammarException\n",
      "    Error\n",
      "    Unresolved\n",
      "    SkipTest\n",
      "    _ShouldStop\n",
      "    _UnexpectedSuccess\n",
      "    Error\n",
      "      ProtocolError\n",
      "      ResponseError\n",
      "      Fault\n",
      "    UnableToResolveVariableException\n",
      "    InvalidTypeInArgsException\n",
      "    CustomException\n",
      "  GeneratorExit\n",
      "  SystemExit\n",
      "  KeyboardInterrupt\n",
      "  CancelledError\n",
      "  AbortThread\n",
      "  AbortThread\n",
      "  DebuggerInitializationError\n"
     ]
    }
   ],
   "source": [
    "# here's a Python program to print the Python Exception Hierarchy:\n",
    "def print_exception_hierarchy(exception_class, indent=0):\n",
    "    print(' ' * indent + exception_class.__name__)\n",
    "    for subclass in exception_class.__subclasses__():\n",
    "        print_exception_hierarchy(subclass, indent + 2)\n",
    "\n",
    "print_exception_hierarchy(BaseException)\n"
   ]
  },
  {
   "cell_type": "markdown",
   "id": "74f37816",
   "metadata": {},
   "source": [
    "This output shows the entire Python Exception Hierarchy, with each exception class indented according to its level in the hierarchy.\n",
    "\n",
    "\n",
    "- This program defines a recursive function called print_exception_hierarchy that takes an exception class as an argument and prints its name, as well as the names of any subclasses it may have.\n",
    "\n",
    "- The function starts by printing the name of the given exception class, and then recursively calls itself on each of the exception class's subclasses, increasing the indentation level by 2 spaces for each level of the hierarchy.\n",
    "\n",
    "- The program then calls print_exception_hierarchy with the BaseException class as an argument, which is the base class for all Python exceptions. This will print the entire exception hierarchy for Python."
   ]
  },
  {
   "cell_type": "code",
   "execution_count": null,
   "id": "713bac3d",
   "metadata": {},
   "outputs": [],
   "source": []
  },
  {
   "cell_type": "raw",
   "id": "ead7aae4",
   "metadata": {},
   "source": [
    "Q3. What errors are defined in the ArithmeticError class? Explain any two with an example."
   ]
  },
  {
   "cell_type": "markdown",
   "id": "b0c5c95a",
   "metadata": {},
   "source": [
    "The ArithmeticError class is a built-in Python exception class that is the base class for all exceptions related to arithmetic operations.\n",
    "\n",
    "Here are two examples of errors that are defined in the ArithmeticError class:\n",
    "\n",
    "1. ZeroDivisionError: This exception is raised when an attempt is made to divide a number by zero. For example:"
   ]
  },
  {
   "cell_type": "code",
   "execution_count": 15,
   "id": "fd680f8c",
   "metadata": {},
   "outputs": [
    {
     "ename": "ZeroDivisionError",
     "evalue": "division by zero",
     "output_type": "error",
     "traceback": [
      "\u001b[1;31m---------------------------------------------------------------------------\u001b[0m",
      "\u001b[1;31mZeroDivisionError\u001b[0m                         Traceback (most recent call last)",
      "Input \u001b[1;32mIn [15]\u001b[0m, in \u001b[0;36m<cell line: 1>\u001b[1;34m()\u001b[0m\n\u001b[1;32m----> 1\u001b[0m \u001b[38;5;241;43m5\u001b[39;49m\u001b[38;5;241;43m/\u001b[39;49m\u001b[38;5;241;43m0\u001b[39;49m\n",
      "\u001b[1;31mZeroDivisionError\u001b[0m: division by zero"
     ]
    }
   ],
   "source": [
    "5/0"
   ]
  },
  {
   "cell_type": "markdown",
   "id": "1b7fe0d0",
   "metadata": {},
   "source": [
    "In this case, Python raises a ZeroDivisionError exception because we are trying to divide the number 5 by zero, which is not a valid arithmetic operation.\n",
    "\n",
    "2. OverflowError: This exception is raised when the result of an arithmetic operation exceeds the maximum representable value. For example:"
   ]
  },
  {
   "cell_type": "code",
   "execution_count": 17,
   "id": "2f2b44bc",
   "metadata": {},
   "outputs": [
    {
     "data": {
      "text/plain": [
       "9223372036854775808"
      ]
     },
     "execution_count": 17,
     "metadata": {},
     "output_type": "execute_result"
    }
   ],
   "source": [
    "import sys\n",
    "sys.maxsize + 1"
   ]
  },
  {
   "cell_type": "code",
   "execution_count": null,
   "id": "e0a9a100",
   "metadata": {},
   "outputs": [],
   "source": []
  },
  {
   "cell_type": "raw",
   "id": "77684d73",
   "metadata": {},
   "source": [
    "Q4. Why LookupError class is used? Explain with an example KeyError and IndexError."
   ]
  },
  {
   "cell_type": "markdown",
   "id": "17715547",
   "metadata": {},
   "source": [
    "- The LookupError class is a built-in Python exception class that serves as the base class for all exceptions related to accessing non-existent items in a collection, such as a list or dictionary.\n",
    "\n",
    "1. KeyError: This exception is raised when we try to access a key in a dictionary that doesn't exist. For example:"
   ]
  },
  {
   "cell_type": "code",
   "execution_count": 20,
   "id": "259be7dc",
   "metadata": {},
   "outputs": [
    {
     "ename": "KeyError",
     "evalue": "'baz'",
     "output_type": "error",
     "traceback": [
      "\u001b[1;31m---------------------------------------------------------------------------\u001b[0m",
      "\u001b[1;31mKeyError\u001b[0m                                  Traceback (most recent call last)",
      "Input \u001b[1;32mIn [20]\u001b[0m, in \u001b[0;36m<cell line: 2>\u001b[1;34m()\u001b[0m\n\u001b[0;32m      1\u001b[0m my_dict \u001b[38;5;241m=\u001b[39m {\u001b[38;5;124m'\u001b[39m\u001b[38;5;124mvik\u001b[39m\u001b[38;5;124m'\u001b[39m: \u001b[38;5;241m42\u001b[39m, \u001b[38;5;124m'\u001b[39m\u001b[38;5;124mrrr\u001b[39m\u001b[38;5;124m'\u001b[39m: \u001b[38;5;241m23\u001b[39m}\n\u001b[1;32m----> 2\u001b[0m \u001b[43mmy_dict\u001b[49m\u001b[43m[\u001b[49m\u001b[38;5;124;43m'\u001b[39;49m\u001b[38;5;124;43mbaz\u001b[39;49m\u001b[38;5;124;43m'\u001b[39;49m\u001b[43m]\u001b[49m\n",
      "\u001b[1;31mKeyError\u001b[0m: 'baz'"
     ]
    }
   ],
   "source": [
    "my_dict = {'vik': 42, 'rrr': 23}\n",
    "my_dict['baz']"
   ]
  },
  {
   "cell_type": "markdown",
   "id": "4ed87c80",
   "metadata": {},
   "source": [
    "In this case, Python raises a KeyError exception because we are trying to access the key 'baz' in the my_dict dictionary, which does not exist.\n",
    "\n",
    "2. IndexError: This exception is raised when we try to access an item in a sequence, such as a list or a tuple, using an index that is out of bounds. For example:"
   ]
  },
  {
   "cell_type": "code",
   "execution_count": 13,
   "id": "6e2b9529",
   "metadata": {},
   "outputs": [
    {
     "ename": "IndexError",
     "evalue": "list index out of range",
     "output_type": "error",
     "traceback": [
      "\u001b[1;31m---------------------------------------------------------------------------\u001b[0m",
      "\u001b[1;31mIndexError\u001b[0m                                Traceback (most recent call last)",
      "Input \u001b[1;32mIn [13]\u001b[0m, in \u001b[0;36m<cell line: 2>\u001b[1;34m()\u001b[0m\n\u001b[0;32m      1\u001b[0m my_list \u001b[38;5;241m=\u001b[39m [\u001b[38;5;241m1\u001b[39m, \u001b[38;5;241m2\u001b[39m, \u001b[38;5;241m3\u001b[39m]\n\u001b[1;32m----> 2\u001b[0m \u001b[43mmy_list\u001b[49m\u001b[43m[\u001b[49m\u001b[38;5;241;43m3\u001b[39;49m\u001b[43m]\u001b[49m\n",
      "\u001b[1;31mIndexError\u001b[0m: list index out of range"
     ]
    }
   ],
   "source": [
    "my_list = [1, 2, 3]\n",
    "my_list[3]"
   ]
  },
  {
   "cell_type": "markdown",
   "id": "462e250d",
   "metadata": {},
   "source": [
    "    - In this case, Python raises an IndexError exception because we are trying to access the fourth item in the my_list list using an index of 3, which is out of bounds. The list only has three items, so the index must be between 0 and 2.\n",
    "\n",
    "- Both of these errors are subclasses of the LookupError class, which itself is a subclass of the Exception class. By using the LookupError class as the base class for these exceptions, we are able to handle all lookup-related errors in a consistent manner, and we can catch and handle these errors using a single try/except block that catches the base LookupError class."
   ]
  },
  {
   "cell_type": "code",
   "execution_count": null,
   "id": "4c120bf6",
   "metadata": {},
   "outputs": [],
   "source": []
  },
  {
   "cell_type": "raw",
   "id": "bf0c7c8f",
   "metadata": {},
   "source": [
    "Q5. Explain ImportError. What is ModuleNotFoundError?"
   ]
  },
  {
   "cell_type": "markdown",
   "id": "76485eb6",
   "metadata": {},
   "source": [
    "- ImportError is a built-in Python exception class that is raised when an imported module cannot be found or loaded.\n",
    "\n",
    "- When we import a module in Python, the interpreter searches for the module in a list of directories specified in the sys.path variable. If the module is not found in any of these directories, or if there is an error while loading the module, an ImportError exception is raised.\n",
    "\n",
    "     - ModuleNotFoundError is a subclass of the ImportError class that was added in Python 3.6. It is raised when an imported module cannot be found, specifically.\n",
    "\n",
    "Here is an example of ModuleNotFoundError:"
   ]
  },
  {
   "cell_type": "code",
   "execution_count": 19,
   "id": "4c15402c",
   "metadata": {},
   "outputs": [
    {
     "ename": "ModuleNotFoundError",
     "evalue": "No module named 'my_module'",
     "output_type": "error",
     "traceback": [
      "\u001b[1;31m---------------------------------------------------------------------------\u001b[0m",
      "\u001b[1;31mModuleNotFoundError\u001b[0m                       Traceback (most recent call last)",
      "Input \u001b[1;32mIn [19]\u001b[0m, in \u001b[0;36m<cell line: 1>\u001b[1;34m()\u001b[0m\n\u001b[1;32m----> 1\u001b[0m \u001b[38;5;28;01mimport\u001b[39;00m \u001b[38;5;21;01mmy_module\u001b[39;00m\n",
      "\u001b[1;31mModuleNotFoundError\u001b[0m: No module named 'my_module'"
     ]
    }
   ],
   "source": [
    "import my_module"
   ]
  },
  {
   "cell_type": "markdown",
   "id": "455f843e",
   "metadata": {},
   "source": [
    "- In this example, Python raises a ModuleNotFoundError exception because it cannot find a module named my_module in any of the directories in sys.path. This could be because the module has not been installed, or because the module is located in a directory that is not included in the sys.path list.\n",
    "\n",
    "      In contrast, an ImportError could be raised for a variety of reasons related to importing a module, including syntax errors in the module code, circular dependencies between modules, and errors while executing the module's code during the import process.\n",
    "\n",
    "It's worth noting that while ModuleNotFoundError is a subclass of ImportError, it is generally recommended to catch ModuleNotFoundError explicitly when you want to handle cases where a specific module cannot be found, rather than catching the more general ImportError."
   ]
  },
  {
   "cell_type": "code",
   "execution_count": null,
   "id": "e136368e",
   "metadata": {},
   "outputs": [],
   "source": []
  },
  {
   "cell_type": "raw",
   "id": "fa769593",
   "metadata": {},
   "source": [
    "Q6. List down some best practices for exception handling in python."
   ]
  },
  {
   "cell_type": "markdown",
   "id": "4810fa1b",
   "metadata": {},
   "source": [
    "some best practices for exception handling in Python:\n",
    "\n",
    "1. Only catch exceptions that you know how to handle: When catching exceptions, it's important to only catch exceptions that you can handle. Catching all exceptions (i.e., using a bare except: clause) is generally discouraged, as it can mask errors and make debugging more difficult.\n",
    "\n",
    "2. Catch the most specific exception possible: When catching exceptions, it's generally best to catch the most specific exception possible, rather than a more general exception class. This helps to ensure that you're handling the specific error that you expect, and avoids accidentally catching other, unrelated errors.\n",
    "\n",
    "3. Use finally blocks to clean up resources: When working with external resources, such as files or network connections, it's a good practice to use a finally block to ensure that these resources are properly cleaned up, even if an exception is raised. This can help prevent resource leaks and other issues.\n",
    "\n",
    "4. Avoid returning None or other sentinel values on error: When a function encounters an error, it's generally better to raise an exception than to return a special value such as None to indicate an error condition. This can help make errors more visible and easier to handle, and can help avoid bugs that can arise from assuming that None is a valid result.\n",
    "\n",
    "5. Use informative error messages: When raising or catching exceptions, it's important to use informative error messages that clearly indicate the nature of the error and provide any relevant context. This can help make errors easier to diagnose and fix.\n",
    "\n",
    "6. Avoid using exceptions for control flow: While exceptions can be a useful tool for handling errors, they should not be used for normal control flow. Instead, use language constructs like if statements and loops to control the flow of your program.\n",
    "\n",
    "7. Be consistent in your exception handling style: Consistency is important when it comes to exception handling. Be sure to use a consistent style for raising and catching exceptions throughout your codebase, to make it easier to read and maintain."
   ]
  },
  {
   "cell_type": "raw",
   "id": "cf392f38",
   "metadata": {},
   "source": [
    "Thank You \n",
    "Sudhansu Sir"
   ]
  },
  {
   "cell_type": "code",
   "execution_count": null,
   "id": "27322711",
   "metadata": {},
   "outputs": [],
   "source": []
  }
 ],
 "metadata": {
  "kernelspec": {
   "display_name": "Python 3 (ipykernel)",
   "language": "python",
   "name": "python3"
  },
  "language_info": {
   "codemirror_mode": {
    "name": "ipython",
    "version": 3
   },
   "file_extension": ".py",
   "mimetype": "text/x-python",
   "name": "python",
   "nbconvert_exporter": "python",
   "pygments_lexer": "ipython3",
   "version": "3.9.12"
  }
 },
 "nbformat": 4,
 "nbformat_minor": 5
}
