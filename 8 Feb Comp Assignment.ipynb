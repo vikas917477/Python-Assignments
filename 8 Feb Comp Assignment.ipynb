{
 "cells": [
  {
   "cell_type": "markdown",
   "id": "3736ee6e",
   "metadata": {},
   "source": [
    "# Abstraction and\n",
    "  - Encapsulation"
   ]
  },
  {
   "cell_type": "code",
   "execution_count": null,
   "id": "5644dbea",
   "metadata": {},
   "outputs": [],
   "source": []
  },
  {
   "cell_type": "markdown",
   "id": "de297d33",
   "metadata": {},
   "source": [
    "Q1. What is Abstraction in OOps? Explain with an example."
   ]
  },
  {
   "cell_type": "markdown",
   "id": "6aeaf451",
   "metadata": {},
   "source": [
    "- Abstraction in Object Oriented Programming (OOP) is the process of hiding complex implementation details and showing only the essential features of an object to the user. It provides a simplified view of the object and helps in managing complexity by reducing the amount of code that the user needs to understand.\n",
    "\n",
    "- An example of abstraction in OOP is a bank account. "
   ]
  },
  {
   "cell_type": "code",
   "execution_count": 12,
   "id": "c8c0b250",
   "metadata": {},
   "outputs": [
    {
     "name": "stdout",
     "output_type": "stream",
     "text": [
      "1500\n",
      "Insufficient balance\n",
      "1500\n"
     ]
    }
   ],
   "source": [
    "# Example:\n",
    "class BankAccount:\n",
    "    def __init__(self, balance=0):\n",
    "        self._balance = balance\n",
    "\n",
    "    def deposit(self, amount):\n",
    "        self._balance += amount\n",
    "\n",
    "    def withdraw(self, amount):\n",
    "        if self._balance >= amount:\n",
    "            self._balance -= amount\n",
    "        else:\n",
    "            print(\"Insufficient balance\")\n",
    "\n",
    "    def check_balance(self):\n",
    "        return self._balance\n",
    "\n",
    "account = BankAccount(1000)\n",
    "account.deposit(500)\n",
    "print(account.check_balance()) # 1500\n",
    "account.withdraw(2000)\n",
    "print(account.check_balance()) # Insufficient balance\n",
    "\n"
   ]
  },
  {
   "cell_type": "markdown",
   "id": "b936998b",
   "metadata": {},
   "source": [
    "- the BankAccount class provides a simplified interface to interact with a bank account. The user can deposit money, withdraw money and check the balance without having to know the internal details of how the balance is maintained. The implementation of the bank account can be changed in the future without affecting the user's experience."
   ]
  },
  {
   "cell_type": "code",
   "execution_count": null,
   "id": "3fbfdc7e",
   "metadata": {},
   "outputs": [],
   "source": []
  },
  {
   "cell_type": "markdown",
   "id": "105b8a8c",
   "metadata": {},
   "source": [
    "Q2. Differentiate between Abstraction and Encapsulation. Explain with an example.\n",
    "\n",
    "- Encapsulation refers to the bundling of data and functions that operate on that data within a single unit, or object. Encapsulation provides a secure way of hiding the internal details of an object from the outside world, which helps to reduce the chances of accidental modification of the internal state of the object."
   ]
  },
  {
   "cell_type": "code",
   "execution_count": 8,
   "id": "dbfa061a",
   "metadata": {},
   "outputs": [
    {
     "name": "stdout",
     "output_type": "stream",
     "text": [
      "Name:  Vikas Salary: 50000\n",
      "Vikas is working on Data Science Projects\n"
     ]
    }
   ],
   "source": [
    "class Employee:\n",
    "\n",
    "    def __init__(self, name, salary, project):\n",
    "        self.name = name\n",
    "        self.salary = salary\n",
    "        self.project = project\n",
    "\n",
    "    def show(self):\n",
    "        print(\"Name: \", self.name, 'Salary:', self.salary)\n",
    "\n",
    "    def work(self):\n",
    "        print(self.name, 'is working on', self.project)\n",
    "\n",
    "emp = Employee('Vikas', 50000, 'Data Science Projects')\n",
    "\n",
    "emp.show()\n",
    "emp.work()"
   ]
  },
  {
   "cell_type": "markdown",
   "id": "63a585ec",
   "metadata": {},
   "source": [
    "- abstraction in Object Oriented Programming (OOP) is the process of hiding complex implementation details and showing only the essential features of an object to the user. It provides a simplified view of the object and helps in managing complexity by reducing the amount of code that the user needs to understand."
   ]
  },
  {
   "cell_type": "markdown",
   "id": "4c1994ae",
   "metadata": {},
   "source": [
    "- an example of the difference between Abstraction and Encapsulation is a TV remote control. Abstraction is demonstrated by the fact that the user only needs to know which buttons to press to change the channel or adjust the volume, without needing to know how the signal is transmitted from the remote to the TV. Encapsulation is demonstrated by the fact that the internal details of the remote control, such as the circuits and components, are hidden from the user, who cannot modify them directly."
   ]
  },
  {
   "cell_type": "code",
   "execution_count": null,
   "id": "e56f4c5e",
   "metadata": {},
   "outputs": [],
   "source": []
  },
  {
   "cell_type": "markdown",
   "id": "a6024490",
   "metadata": {},
   "source": [
    "Q3. What is abc module in python? Why is it used?"
   ]
  },
  {
   "cell_type": "markdown",
   "id": "cc279bc4",
   "metadata": {},
   "source": [
    " - Abstract base classes (ABCs) are classes in Object-Oriented Programming (OOP) that define an interface for a set of related objects. An abstract base class cannot be instantiated, and is meant to serve as a base class for one or more concrete implementations.\n",
    "\n",
    "- The purpose of using abstract base classes is to define a common interface for a set of related objects and to ensure that any concrete implementations of the interface provide a complete implementation of the specified methods. By using abstract base classes, you can write code that works with objects that implement a common interface, regardless of their specific implementation.\n",
    "\n",
    "- Abstract base classes can be implemented in Python using the abc module. The abc module provides support for defining abstract base classes, as well as for registering classes as virtual subclasses of an abstract base class, even if they don't inherit from it directly. The abc module also provides the abstractmethod decorator, which can be used to declare methods as abstract, meaning that any concrete implementations of the abstract base class must provide their own implementation of the abstract methods."
   ]
  },
  {
   "cell_type": "code",
   "execution_count": 10,
   "id": "b370d74d",
   "metadata": {},
   "outputs": [],
   "source": []
  },
  {
   "cell_type": "markdown",
   "id": "151e994f",
   "metadata": {},
   "source": [
    "Q4. How can we achieve data abstraction."
   ]
  },
  {
   "cell_type": "markdown",
   "id": "106e97bc",
   "metadata": {},
   "source": [
    "- Data abstraction is a technique for hiding the underlying implementation details of a data structure and exposing only its essential features to the user. It can be achieved in various ways, including the following:\n",
    "\n",
    "- Encapsulation: Wrapping data and functions that manipulate the data inside an object, making the data private and the functions public.\n",
    "\n",
    "- Interfaces: Defining a set of operations that an object can perform, without specifying how these operations are implemented.\n",
    "\n",
    "- Abstract classes: Creating a base class that defines the common properties and behaviors of a set of related classes, but leaving the implementation details to be defined by the derived classes.\n",
    "\n",
    "- Information hiding: Hiding the internal details of a class, such as its data members, and providing access to the data through public methods.\n",
    "\n",
    "- Ex : A classic example of data abstraction is the Stack data structure. The user only needs to know the basic operations such as push, pop, and top, but not how the data is stored or managed internally."
   ]
  },
  {
   "cell_type": "code",
   "execution_count": null,
   "id": "ed3496cb",
   "metadata": {},
   "outputs": [],
   "source": []
  },
  {
   "cell_type": "markdown",
   "id": "fae16fbc",
   "metadata": {},
   "source": [
    "Q5. Can we create an instance of an abstract class? Explain your answer."
   ]
  },
  {
   "cell_type": "markdown",
   "id": "b3b20f7d",
   "metadata": {},
   "source": [
    "- No, you cannot create an instance of an abstract class directly. An abstract class is meant to be a base class, from which other concrete classes can inherit and provide the necessary implementation for the abstract methods.\n",
    "\n",
    "- An abstract class is meant to define a common interface for its derived classes and to provide a partial implementation for them, but it cannot be instantiated on its own because it does not provide a complete implementation for all the abstract methods.\n",
    "\n",
    "- Therefore, if you try to create an instance of an abstract class, you will get a compile-time error. The correct way to use an abstract class is to derive a concrete class from it and provide the implementation for the abstract methods, and then create an instance of the concrete class."
   ]
  },
  {
   "cell_type": "markdown",
   "id": "68627f83",
   "metadata": {},
   "source": [
    "# ThankYou \n",
    "- Vikas Dohare"
   ]
  },
  {
   "cell_type": "code",
   "execution_count": null,
   "id": "29d6fd73",
   "metadata": {},
   "outputs": [],
   "source": []
  }
 ],
 "metadata": {
  "kernelspec": {
   "display_name": "Python 3 (ipykernel)",
   "language": "python",
   "name": "python3"
  },
  "language_info": {
   "codemirror_mode": {
    "name": "ipython",
    "version": 3
   },
   "file_extension": ".py",
   "mimetype": "text/x-python",
   "name": "python",
   "nbconvert_exporter": "python",
   "pygments_lexer": "ipython3",
   "version": "3.9.12"
  }
 },
 "nbformat": 4,
 "nbformat_minor": 5
}
