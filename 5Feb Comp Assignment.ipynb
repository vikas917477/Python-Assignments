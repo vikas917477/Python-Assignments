{
 "cells": [
  {
   "cell_type": "markdown",
   "id": "cd36404f",
   "metadata": {},
   "source": [
    "#                                         5 Feb Assignment"
   ]
  },
  {
   "cell_type": "markdown",
   "id": "d09e5017",
   "metadata": {},
   "source": [
    "1.Explain Class and Object with respect to Object-Oriented Programming.Give a suitable example.\n",
    "- Class: In object-oriented programming, a class is a blueprint for creating object."
   ]
  },
  {
   "cell_type": "code",
   "execution_count": 19,
   "id": "65e62972",
   "metadata": {},
   "outputs": [],
   "source": [
    "class Car:\n",
    "    def __init__(self, make, model, year):\n",
    "        self.make = make\n",
    "        self.model = model\n",
    "        self.year = year\n",
    "        \n",
    "    def start_engine(self):\n",
    "        print(f\"The {self.make} {self.model}'s engine is now running.\")"
   ]
  },
  {
   "cell_type": "markdown",
   "id": "533c3fd5",
   "metadata": {},
   "source": [
    "- Object: An object is an instance of a class, created from a class blueprint."
   ]
  },
  {
   "cell_type": "code",
   "execution_count": 20,
   "id": "1500d4c9",
   "metadata": {},
   "outputs": [
    {
     "name": "stdout",
     "output_type": "stream",
     "text": [
      "Maruti Suzaki\n",
      "Baleno Delta\n",
      "2018\n",
      "The Maruti Suzaki Baleno Delta's engine is now running.\n"
     ]
    }
   ],
   "source": [
    "my_car = Car(\"Maruti Suzaki\", \"Baleno Delta\", 2018)\n",
    "print(my_car.make) \n",
    "print(my_car.model)\n",
    "print(my_car.year) \n",
    "my_car.start_engine()"
   ]
  },
  {
   "cell_type": "code",
   "execution_count": null,
   "id": "28fecb65",
   "metadata": {},
   "outputs": [],
   "source": []
  },
  {
   "cell_type": "markdown",
   "id": "737e8d37",
   "metadata": {},
   "source": [
    "2. Name the Four pillars of Oops.\n",
    "- The four pillars of object-oriented programming (OOP) are:\n",
    "\n",
    "--- Abstraction: Hiding the implementation details and showing only the essential features of an object.\n",
    "\n",
    "--- Encapsulation: Wrapping data and functions within an object to protect the data from outside interference and misuse.\n",
    "\n",
    "--- Inheritance: The mechanism of deriving a new class from an existing one.\n",
    "\n",
    "--- Polymorphism: The ability of an object to take on many forms. In OOP, polymorphism allows objects of different classes to be used interchangeably, even though they may have different implementations."
   ]
  },
  {
   "cell_type": "code",
   "execution_count": null,
   "id": "6a1cb799",
   "metadata": {},
   "outputs": [],
   "source": []
  },
  {
   "cell_type": "markdown",
   "id": "0dcb67d7",
   "metadata": {},
   "source": [
    "3. Exaplain why the __init__()function is used.Give a suitable example.\n",
    "\n",
    "- The __init__ method, also known as the constructor, is a special method in Python classes that is automatically called when an object of the class is created"
   ]
  },
  {
   "cell_type": "code",
   "execution_count": 21,
   "id": "c210bf6d",
   "metadata": {},
   "outputs": [],
   "source": [
    "class Car:\n",
    "    def __init__(self, make, model, year):\n",
    "        self.make = make\n",
    "        self.model = model\n",
    "        self.year = year"
   ]
  },
  {
   "cell_type": "markdown",
   "id": "ea1bc892",
   "metadata": {},
   "source": [
    "- the __init__ method takes three parameters: make, model, and year, and assigns them to the attributes of the same name for the object. This allows us to create objects of the class Car with specific values for make, model, and year, like so:"
   ]
  },
  {
   "cell_type": "code",
   "execution_count": 22,
   "id": "137759cb",
   "metadata": {},
   "outputs": [
    {
     "name": "stdout",
     "output_type": "stream",
     "text": [
      "Maruti Suzaki\n",
      "Baleno Delta\n",
      "2018\n"
     ]
    }
   ],
   "source": [
    "my_car = Car(\"Maruti Suzaki\", \"Baleno Delta\", 2018)\n",
    "print(my_car.make) \n",
    "print(my_car.model) \n",
    "print(my_car.year) "
   ]
  },
  {
   "cell_type": "code",
   "execution_count": null,
   "id": "689622eb",
   "metadata": {},
   "outputs": [],
   "source": []
  },
  {
   "cell_type": "markdown",
   "id": "1372a4b6",
   "metadata": {},
   "source": [
    "4. Why self is used in OOps?\n",
    "\n",
    "- In object-oriented programming (OOP), self is a reference to the instance of the class that is calling the method. It is used to access the attributes and methods of the current object."
   ]
  },
  {
   "cell_type": "code",
   "execution_count": 23,
   "id": "73682961",
   "metadata": {},
   "outputs": [],
   "source": [
    "class Car:\n",
    "    def __init__(self, make, model, year):\n",
    "        self.make = make\n",
    "        self.model = model\n",
    "        self.year = year\n",
    "        \n",
    "    def start_engine(self):\n",
    "        print(f\"The {self.make} {self.model}'s engine is now running.\")"
   ]
  },
  {
   "cell_type": "markdown",
   "id": "584f1b65",
   "metadata": {},
   "source": [
    "-  method start_engine takes self as an argument. When this methed is called on an object of the class Car, self will refer to that object"
   ]
  },
  {
   "cell_type": "code",
   "execution_count": 25,
   "id": "93c031af",
   "metadata": {},
   "outputs": [
    {
     "name": "stdout",
     "output_type": "stream",
     "text": [
      "The Maruti Suzaki Baleno Delta's engine is now running.\n"
     ]
    }
   ],
   "source": [
    "my_car = Car(\"Maruti Suzaki\", \"Baleno Delta\", 2018)\n",
    "my_car.start_engine() # Output: The Toyota Corolla's engine is now running.\n"
   ]
  },
  {
   "cell_type": "markdown",
   "id": "b0e2a78b",
   "metadata": {},
   "source": [
    "- when start_engine is called on my_car, self will refer to my_car. The line print(f\"The {self.make} {self.model}'s engine is now running.\") uses self.make and self.model to access the make and model attributes of the object that self refers to, which in this case is my_car."
   ]
  },
  {
   "cell_type": "code",
   "execution_count": null,
   "id": "58598cbc",
   "metadata": {},
   "outputs": [],
   "source": []
  },
  {
   "cell_type": "markdown",
   "id": "c8573869",
   "metadata": {},
   "source": [
    "5. What is inheritance? Give example for each type of inheritance."
   ]
  },
  {
   "cell_type": "markdown",
   "id": "4d9322cb",
   "metadata": {},
   "source": [
    "- Inheritance is a mechanism in Object-Oriented Programming (OOP) that allows a class to inherit properties and behaviors from a parent class."
   ]
  },
  {
   "cell_type": "code",
   "execution_count": 28,
   "id": "b377641a",
   "metadata": {},
   "outputs": [
    {
     "name": "stdout",
     "output_type": "stream",
     "text": [
      "Make: Mahindra\n",
      "Model: TharEMD\n",
      "Year: 2023\n",
      "Number of wheels: 4\n"
     ]
    }
   ],
   "source": [
    "# Single inheritance: \n",
    "#When a class inherits properties and behaviors from a single parent class, it is called single inheritance.\n",
    "\n",
    "\n",
    "class Vehicle:\n",
    "    def __init__(self, make, model, year):\n",
    "        self.make = make\n",
    "        self.model = model\n",
    "        self.year = year\n",
    "\n",
    "    def print_info(self):\n",
    "        print(f\"Make: {self.make}\\nModel: {self.model}\\nYear: {self.year}\")\n",
    "\n",
    "class Car(Vehicle):\n",
    "    def __init__(self, make, model, year, num_wheels):\n",
    "        super().__init__(make, model, year)\n",
    "        self.num_wheels = num_wheels\n",
    "\n",
    "    def print_info(self):\n",
    "        super().print_info()\n",
    "        print(f\"Number of wheels: {self.num_wheels}\")\n",
    "\n",
    "my_car = Car(\"Mahindra\", \"TharEMD\", 2023, 4)\n",
    "my_car.print_info()"
   ]
  },
  {
   "cell_type": "code",
   "execution_count": 30,
   "id": "fa95c239",
   "metadata": {},
   "outputs": [
    {
     "name": "stdout",
     "output_type": "stream",
     "text": [
      "Inside Vehicle class\n",
      "Inside Car class\n",
      "Inside SportsCar class\n"
     ]
    }
   ],
   "source": [
    "# Multi-level inheritance: When a class inherits from a parent class, which in turn inherits from another class, it is called multi-level inheritance.\n",
    "# Base class\n",
    "class Vehicle:\n",
    "    def Vehicle_info(self):\n",
    "        print('Inside Vehicle class')\n",
    "\n",
    "# Child class\n",
    "class Car(Vehicle):\n",
    "    def car_info(self):\n",
    "        print('Inside Car class')\n",
    "\n",
    "# Child class\n",
    "class SportsCar(Car):\n",
    "    def sports_car_info(self):\n",
    "        print('Inside SportsCar class')\n",
    "\n",
    "# Create object of SportsCar\n",
    "s_car = SportsCar()\n",
    "\n",
    "# access Vehicle's and Car info using SportsCar object\n",
    "s_car.Vehicle_info()\n",
    "s_car.car_info()\n",
    "s_car.sports_car_info()"
   ]
  },
  {
   "cell_type": "code",
   "execution_count": 34,
   "id": "6d849030",
   "metadata": {},
   "outputs": [
    {
     "name": "stdout",
     "output_type": "stream",
     "text": [
      "Inside Person class\n",
      "Name: Vikas Age: 28\n",
      "Inside Company class\n",
      "Name: Pwskills location: Banglore\n",
      "Inside Employee class\n",
      "Salary: 12000 Skill: Data Science Masters Impact Batch\n"
     ]
    }
   ],
   "source": [
    "# Multiple inheritance: When a class inherits from multiple parent classes, it is called multiple inheritance.\n",
    "# Parent class 1\n",
    "class Person:\n",
    "    def person_info(self, name, age):\n",
    "        print('Inside Person class')\n",
    "        print('Name:', name, 'Age:', age)\n",
    "\n",
    "# Parent class 2\n",
    "class Company:\n",
    "    def company_info(self, company_name, location):\n",
    "        print('Inside Company class')\n",
    "        print('Name:', company_name, 'location:', location)\n",
    "\n",
    "# Child class\n",
    "class Employee(Person, Company):\n",
    "    def Employee_info(self, salary, skill):\n",
    "        print('Inside Employee class')\n",
    "        print('Salary:', salary, 'Skill:', skill)\n",
    "\n",
    "# Create object of Employee\n",
    "emp = Employee()\n",
    "\n",
    "# access data\n",
    "emp.person_info('Vikas', 28)\n",
    "emp.company_info('Pwskills', 'Banglore')\n",
    "emp.Employee_info(12000, 'Data Science Masters Impact Batch')"
   ]
  },
  {
   "cell_type": "code",
   "execution_count": 38,
   "id": "f9756a51",
   "metadata": {},
   "outputs": [
    {
     "name": "stdout",
     "output_type": "stream",
     "text": [
      "This is Vehicle\n",
      "Car name is: Maruti Suzaki\n",
      "This is Vehicle\n",
      "Truck name is: Tata\n"
     ]
    }
   ],
   "source": [
    "# Hierarchical inheritance: When multiple classes inherit from a single parent class, it is called hierarchical inheritance.\n",
    "\n",
    "class Vehicle:\n",
    "    def info(self):\n",
    "        print(\"This is Vehicle\")\n",
    "\n",
    "class Car(Vehicle):\n",
    "    def car_info(self, name):\n",
    "        print(\"Car name is:\", name)\n",
    "\n",
    "class Truck(Vehicle):\n",
    "    def truck_info(self, name):\n",
    "        print(\"Truck name is:\", name)\n",
    "\n",
    "obj1 = Car()\n",
    "obj1.info()\n",
    "obj1.car_info('Maruti Suzaki')\n",
    "\n",
    "obj2 = Truck()\n",
    "obj2.info()\n",
    "obj2.truck_info('Tata')"
   ]
  },
  {
   "cell_type": "code",
   "execution_count": 39,
   "id": "e8ce5cc0",
   "metadata": {},
   "outputs": [
    {
     "name": "stdout",
     "output_type": "stream",
     "text": [
      "Inside Vehicle class\n",
      "Inside Car class\n",
      "Inside SportsCar class\n"
     ]
    }
   ],
   "source": [
    "# Hybrid inheritance: When a combination of multiple inheritance types are used, it is called hybrid inheritance.\n",
    "\n",
    "class Vehicle:\n",
    "    def vehicle_info(self):\n",
    "        print(\"Inside Vehicle class\")\n",
    "\n",
    "class Car(Vehicle):\n",
    "    def car_info(self):\n",
    "        print(\"Inside Car class\")\n",
    "\n",
    "class Truck(Vehicle):\n",
    "    def truck_info(self):\n",
    "        print(\"Inside Truck class\")\n",
    "\n",
    "# Sports Car can inherits properties of Vehicle and Car\n",
    "class SportsCar(Car, Vehicle):\n",
    "    def sports_car_info(self):\n",
    "        print(\"Inside SportsCar class\")\n",
    "\n",
    "# create object\n",
    "s_car = SportsCar()\n",
    "\n",
    "s_car.vehicle_info()\n",
    "s_car.car_info()\n",
    "s_car.sports_car_info()"
   ]
  },
  {
   "cell_type": "markdown",
   "id": "97c67e88",
   "metadata": {},
   "source": [
    "# Thank You \n",
    "- Vikas DOhare"
   ]
  },
  {
   "cell_type": "code",
   "execution_count": null,
   "id": "1e77c724",
   "metadata": {},
   "outputs": [],
   "source": []
  }
 ],
 "metadata": {
  "kernelspec": {
   "display_name": "Python 3 (ipykernel)",
   "language": "python",
   "name": "python3"
  },
  "language_info": {
   "codemirror_mode": {
    "name": "ipython",
    "version": 3
   },
   "file_extension": ".py",
   "mimetype": "text/x-python",
   "name": "python",
   "nbconvert_exporter": "python",
   "pygments_lexer": "ipython3",
   "version": "3.9.12"
  }
 },
 "nbformat": 4,
 "nbformat_minor": 5
}
