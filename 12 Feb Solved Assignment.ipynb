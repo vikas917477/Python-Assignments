{
 "cells": [
  {
   "cell_type": "markdown",
   "id": "1aacaa5e",
   "metadata": {},
   "source": [
    "# Exception handling-1\n",
    "Assignment Questions"
   ]
  },
  {
   "cell_type": "code",
   "execution_count": null,
   "id": "3fb7188b",
   "metadata": {},
   "outputs": [],
   "source": []
  },
  {
   "cell_type": "raw",
   "id": "5869f021",
   "metadata": {},
   "source": [
    "Q1. what is an Exception in python?Write the difference between Exception and Syntax errors."
   ]
  },
  {
   "cell_type": "markdown",
   "id": "0aee7dd2",
   "metadata": {},
   "source": [
    "An exception in Python is an abnormal event that occurs during the execution of a program. It is an error that is raised when the code is executed and disrupts the normal flow of the program. When an exception is encountered, it generates an exception object, which contains information about the error and its type.\n",
    "\n",
    "A syntax error, on the other hand, is a type of error that occurs when the code written in the program violates the rules of the language's syntax. This means that the code is not in the proper format, and the Python interpreter cannot understand it. Syntax errors are detected before the code is executed, and they prevent the code from running.\n",
    "\n",
    "The difference between exceptions and syntax errors can be summarized as follows:\n",
    "\n",
    "- Detection: Syntax errors are detected before the code is executed, while exceptions are raised during the execution of the code.\n",
    "\n",
    "- Nature of error: Syntax errors are related to the improper use of the language's syntax, while exceptions are related to runtime errors such as division by zero, file not found, and others.\n",
    "\n",
    "- Error handling: Syntax errors can be corrected by fixing the code's syntax, while exceptions can be handled using try-except blocks, allowing the program to continue its execution even after an exception is raised.\n",
    "\n",
    "- Error message: Syntax errors result in error messages that are less descriptive and harder to understand, while exceptions result in error messages that contain more detailed information about the error and its cause."
   ]
  },
  {
   "cell_type": "code",
   "execution_count": null,
   "id": "5b0af90c",
   "metadata": {},
   "outputs": [],
   "source": []
  },
  {
   "cell_type": "raw",
   "id": "9926b5bf",
   "metadata": {},
   "source": [
    "Q2.what happen when an exception is not handled?Explain with an example."
   ]
  },
  {
   "cell_type": "markdown",
   "id": "53f1e13f",
   "metadata": {},
   "source": [
    "- When an exception is not handled, the program stops executing immediately and raises an unhandled exception error. The error message includes information about the type of the exception and its location in the code. This makes it easier for the developer to identify the source of the problem and fix it."
   ]
  },
  {
   "cell_type": "code",
   "execution_count": 6,
   "id": "065f0a7b",
   "metadata": {},
   "outputs": [
    {
     "ename": "ZeroDivisionError",
     "evalue": "division by zero",
     "output_type": "error",
     "traceback": [
      "\u001b[1;31m---------------------------------------------------------------------------\u001b[0m",
      "\u001b[1;31mZeroDivisionError\u001b[0m                         Traceback (most recent call last)",
      "Input \u001b[1;32mIn [6]\u001b[0m, in \u001b[0;36m<cell line: 3>\u001b[1;34m()\u001b[0m\n\u001b[0;32m      1\u001b[0m a \u001b[38;5;241m=\u001b[39m \u001b[38;5;241m10\u001b[39m\n\u001b[0;32m      2\u001b[0m b \u001b[38;5;241m=\u001b[39m \u001b[38;5;241m0\u001b[39m\n\u001b[1;32m----> 3\u001b[0m c \u001b[38;5;241m=\u001b[39m \u001b[43ma\u001b[49m\u001b[43m \u001b[49m\u001b[38;5;241;43m/\u001b[39;49m\u001b[43m \u001b[49m\u001b[43mb\u001b[49m\n\u001b[0;32m      4\u001b[0m \u001b[38;5;28mprint\u001b[39m(\u001b[38;5;124m\"\u001b[39m\u001b[38;5;124ma/b = \u001b[39m\u001b[38;5;132;01m%d\u001b[39;00m\u001b[38;5;124m\"\u001b[39m \u001b[38;5;241m%\u001b[39m c)\n",
      "\u001b[1;31mZeroDivisionError\u001b[0m: division by zero"
     ]
    }
   ],
   "source": [
    "a = 10\n",
    "b = 0\n",
    "c = a / b\n",
    "print(\"a/b = %d\" % c)"
   ]
  },
  {
   "cell_type": "markdown",
   "id": "018bc86e",
   "metadata": {},
   "source": [
    "- We can see in the above code when we are divided by 0; Python throws an exception as ZeroDivisionError and the program terminated abnormally.\n",
    "\n",
    "We can handle the above exception using the try…except block. See the following code.\n"
   ]
  },
  {
   "cell_type": "code",
   "execution_count": 7,
   "id": "6c4b1116",
   "metadata": {},
   "outputs": [
    {
     "ename": "SyntaxError",
     "evalue": "unexpected EOF while parsing (522141075.py, line 7)",
     "output_type": "error",
     "traceback": [
      "\u001b[1;36m  Input \u001b[1;32mIn [7]\u001b[1;36m\u001b[0m\n\u001b[1;33m    print(\"Can't divide with zero. Provide different number\"\u001b[0m\n\u001b[1;37m                                                            ^\u001b[0m\n\u001b[1;31mSyntaxError\u001b[0m\u001b[1;31m:\u001b[0m unexpected EOF while parsing\n"
     ]
    }
   ],
   "source": [
    "try:\n",
    "    a = 10\n",
    "    b = 0\n",
    "    c = a/b\n",
    "    print(\"The answer of a divide by b:\", c)\n",
    "except:\n",
    "    print(\"Can't divide with zero. Provide different number\""
   ]
  },
  {
   "cell_type": "code",
   "execution_count": 8,
   "id": "369d83be",
   "metadata": {},
   "outputs": [
    {
     "name": "stdout",
     "output_type": "stream",
     "text": [
      "Enter value of a:10\n",
      "Enter value of b:0\n",
      "Can't divide by zero\n"
     ]
    }
   ],
   "source": [
    "try:\n",
    "    a = int(input(\"Enter value of a:\"))\n",
    "    b = int(input(\"Enter value of b:\"))\n",
    "    c = a/b\n",
    "    print(\"The answer of a divide by b:\", c)\n",
    "except ValueError:\n",
    "    print(\"Entered value is wrong\")\n",
    "except ZeroDivisionError:\n",
    "    print(\"Can't divide by zero\")"
   ]
  },
  {
   "cell_type": "code",
   "execution_count": null,
   "id": "1419a9df",
   "metadata": {},
   "outputs": [],
   "source": []
  },
  {
   "cell_type": "raw",
   "id": "2aed4281",
   "metadata": {},
   "source": [
    "Q3. Which Python statements are used to catch and handle exceptions?Explain with an example."
   ]
  },
  {
   "cell_type": "markdown",
   "id": "13a2c238",
   "metadata": {},
   "source": [
    "- In Python, the try and except statements are used to catch and handle exceptions. The try block contains the code that might raise an exception, and the except block contains the code that will be executed in case an exception is raised."
   ]
  },
  {
   "cell_type": "code",
   "execution_count": 7,
   "id": "36279c4d",
   "metadata": {},
   "outputs": [
    {
     "name": "stdout",
     "output_type": "stream",
     "text": [
      "Error: division by zero\n"
     ]
    }
   ],
   "source": [
    "try:\n",
    "    # code that might raise an exception\n",
    "    result = 10 / 0\n",
    "except ZeroDivisionError as e:\n",
    "    # code to handle the exception\n",
    "    print(\"Error:\", e)\n"
   ]
  },
  {
   "cell_type": "markdown",
   "id": "82ed3956",
   "metadata": {},
   "source": [
    "- In this example, the code inside the try block attempts to divide 10 by 0, which raises a ZeroDivisionError exception. The except block is executed in case the exception is raised, and the error message is printed to the console.\n",
    "\n",
    "You can also use the except statement without specifying the exception type, like this:"
   ]
  },
  {
   "cell_type": "code",
   "execution_count": 9,
   "id": "80f076ba",
   "metadata": {},
   "outputs": [
    {
     "name": "stdout",
     "output_type": "stream",
     "text": [
      "An error has occurred.\n"
     ]
    }
   ],
   "source": [
    "try:\n",
    "    result = 10 / 0\n",
    "except:\n",
    "\n",
    "    print(\"An error has occurred.\")\n"
   ]
  },
  {
   "cell_type": "markdown",
   "id": "cf3ec895",
   "metadata": {},
   "source": [
    "- In this example, the except block will catch and handle any exception that is raised, regardless of its type.\n",
    "\n",
    "It's important to note that the try-except statement should be used only to handle exceptions that you expect to occur and can handle in a meaningful way. Exceptions should not be used to handle normal, expected behavior or to hide bugs in your code."
   ]
  },
  {
   "cell_type": "code",
   "execution_count": null,
   "id": "148f023e",
   "metadata": {},
   "outputs": [],
   "source": []
  },
  {
   "cell_type": "raw",
   "id": "c7f7c2cc",
   "metadata": {},
   "source": [
    "Q4. Explain with an exmple:#\n",
    "- a.try and else\n",
    "- b.finally\n",
    "- c.raise"
   ]
  },
  {
   "cell_type": "markdown",
   "id": "7b5852d4",
   "metadata": {},
   "source": [
    "a. try and else:\n",
    "\n",
    "The else clause can be used in conjunction with the try statement to specify a block of code that will be executed only if no exceptions are raised in the try block. For example:"
   ]
  },
  {
   "cell_type": "code",
   "execution_count": 1,
   "id": "85b8d2d3",
   "metadata": {},
   "outputs": [
    {
     "name": "stdout",
     "output_type": "stream",
     "text": [
      "The result is: 5.0\n"
     ]
    }
   ],
   "source": [
    "try:\n",
    "    # code that might raise an exception\n",
    "    result = 10 / 2\n",
    "except ZeroDivisionError as e:\n",
    "    # code to handle the exception\n",
    "    print(\"Error:\", e)\n",
    "else:\n",
    "    # code to be executed if no exceptions are raised\n",
    "    print(\"The result is:\", result)\n"
   ]
  },
  {
   "cell_type": "markdown",
   "id": "2098b23d",
   "metadata": {},
   "source": [
    "- In this example, the code inside the try block calculates the division of 10 by 2, which does not raise an exception. As a result, the code inside the else block is executed, and the result is printed to the console."
   ]
  },
  {
   "cell_type": "markdown",
   "id": "180afe4a",
   "metadata": {},
   "source": [
    "- b. finally:\n",
    "\n",
    "The finally clause can be used in conjunction with the try statement to specify a block of code that will be executed regardless of whether an exception is raised or not. For example:"
   ]
  },
  {
   "cell_type": "code",
   "execution_count": 2,
   "id": "c7224216",
   "metadata": {},
   "outputs": [
    {
     "name": "stdout",
     "output_type": "stream",
     "text": [
      "Error: division by zero\n",
      "This block will always be executed.\n"
     ]
    }
   ],
   "source": [
    "try:\n",
    "    result = 10 / 0\n",
    "except ZeroDivisionError as e:\n",
    "\n",
    "    print(\"Error:\", e)\n",
    "finally:\n",
    "    print(\"This block will always be executed.\")"
   ]
  },
  {
   "cell_type": "code",
   "execution_count": null,
   "id": "3e5e7670",
   "metadata": {},
   "outputs": [],
   "source": []
  },
  {
   "cell_type": "markdown",
   "id": "8ac10614",
   "metadata": {},
   "source": [
    "- c. raise:\n",
    "\n",
    "The raise statement is used to raise an exception explicitly in your code. For example:"
   ]
  },
  {
   "cell_type": "code",
   "execution_count": 3,
   "id": "4e4c7827",
   "metadata": {},
   "outputs": [
    {
     "name": "stdout",
     "output_type": "stream",
     "text": [
      "Error: The divisor cannot be zero.\n"
     ]
    }
   ],
   "source": [
    "def divide(a, b):\n",
    "    if b == 0:\n",
    "        raise ValueError(\"The divisor cannot be zero.\")\n",
    "    return a / b\n",
    "\n",
    "try:\n",
    "    result = divide(10, 0)\n",
    "except ValueError as e:\n",
    "    print(\"Error:\", e)"
   ]
  },
  {
   "cell_type": "markdown",
   "id": "e1db3170",
   "metadata": {},
   "source": [
    "- In this example, the divide function raises a ValueError exception if the divisor is zero. The try-except statement is used to catch the exception and print an error message.\n",
    "\n",
    "- The raise statement allows you to define custom exceptions and provide more meaningful error messages, making it easier to understand and debug the source of the problem."
   ]
  },
  {
   "cell_type": "code",
   "execution_count": null,
   "id": "7b621542",
   "metadata": {},
   "outputs": [],
   "source": []
  },
  {
   "cell_type": "raw",
   "id": "32686324",
   "metadata": {},
   "source": [
    "Q5.What are Custom Exceptions in python?Why do we need Custom Exceptions?Explain with an example."
   ]
  },
  {
   "cell_type": "markdown",
   "id": "a63d7707",
   "metadata": {},
   "source": [
    "- Custom exceptions in Python are user-defined exception classes that inherit from the built-in Exception class or any of its subclasses. Custom exceptions are used to provide more meaningful error messages and improve the readability and maintainability of the code."
   ]
  },
  {
   "cell_type": "code",
   "execution_count": 10,
   "id": "be70cb65",
   "metadata": {},
   "outputs": [
    {
     "name": "stdout",
     "output_type": "stream",
     "text": [
      "Error: The divisor cannot be zero.\n"
     ]
    }
   ],
   "source": [
    "# Example:\n",
    "class InvalidInputError(Exception):\n",
    "    def __init__(self, message):\n",
    "        self.message = message\n",
    "\n",
    "def divide(a, b):\n",
    "    if b == 0:\n",
    "        raise InvalidInputError(\"The divisor cannot be zero.\")\n",
    "    return a / b\n",
    "\n",
    "try:\n",
    "    result = divide(10, 0)\n",
    "except InvalidInputError as e:\n",
    "    print(\"Error:\", e.message)"
   ]
  },
  {
   "cell_type": "markdown",
   "id": "1c141c89",
   "metadata": {},
   "source": [
    "- Using custom exceptions allows you to provide more descriptive and meaningful error messages, making it easier to understand and debug the source of the problem"
   ]
  },
  {
   "cell_type": "code",
   "execution_count": null,
   "id": "37feaec5",
   "metadata": {},
   "outputs": [],
   "source": []
  },
  {
   "cell_type": "raw",
   "id": "19f6e949",
   "metadata": {},
   "source": [
    "Q6.Create a custom exception class.Use this class to handle an exception."
   ]
  },
  {
   "cell_type": "code",
   "execution_count": 9,
   "id": "aea0e632",
   "metadata": {},
   "outputs": [
    {
     "name": "stdout",
     "output_type": "stream",
     "text": [
      "Error: -1: Number cannot be negative.\n"
     ]
    }
   ],
   "source": [
    "class NegativeNumberError(Exception):\n",
    "    def __init__(self, number):\n",
    "        self.number = number\n",
    "        self.message = \"Number cannot be negative.\"\n",
    "\n",
    "    def __str__(self):\n",
    "        return f\"{self.number}: {self.message}\"\n",
    "\n",
    "\n",
    "def square_root(num):\n",
    "    if num < 0:\n",
    "        raise NegativeNumberError(num)\n",
    "    return num ** 0.5\n",
    "\n",
    "\n",
    "try:\n",
    "    result = square_root(-1)\n",
    "except NegativeNumberError as e:\n",
    "    print(f\"Error: {e}\")\n",
    "else:\n",
    "    print(result)\n"
   ]
  },
  {
   "cell_type": "code",
   "execution_count": null,
   "id": "98439205",
   "metadata": {},
   "outputs": [],
   "source": []
  }
 ],
 "metadata": {
  "kernelspec": {
   "display_name": "Python 3 (ipykernel)",
   "language": "python",
   "name": "python3"
  },
  "language_info": {
   "codemirror_mode": {
    "name": "ipython",
    "version": 3
   },
   "file_extension": ".py",
   "mimetype": "text/x-python",
   "name": "python",
   "nbconvert_exporter": "python",
   "pygments_lexer": "ipython3",
   "version": "3.9.12"
  }
 },
 "nbformat": 4,
 "nbformat_minor": 5
}
