{
 "cells": [
  {
   "cell_type": "markdown",
   "id": "d203e68f",
   "metadata": {},
   "source": [
    "# Flask-2\n",
    "Assignment Questions"
   ]
  },
  {
   "cell_type": "code",
   "execution_count": null,
   "id": "81659ba3",
   "metadata": {},
   "outputs": [],
   "source": []
  },
  {
   "cell_type": "raw",
   "id": "c6067599",
   "metadata": {},
   "source": [
    "Q1. Explain GET and POST methods."
   ]
  },
  {
   "cell_type": "markdown",
   "id": "825eaf92",
   "metadata": {},
   "source": [
    "GET and POST are HTTP methods used for sending data between a client (such as a web browser) and a server. The main differences between them are in how they handle data and what their intended use cases are.\n",
    "\n",
    "GET:\n",
    "- The GET method is used to request a resource from a server. It sends a request to the server with a URL and any parameters encoded in the URL itself. This method is typically used for retrieving data from the server. Since the parameters are encoded in the URL, they are limited in size and are visible to the user in the browser's address bar.\n",
    "\n",
    "POST:\n",
    "- The POST method is used to submit data to the server. Unlike GET, the data is sent in the body of the HTTP request, not in the URL. This makes it more suitable for submitting large amounts of data or sensitive information, such as login credentials. POST requests can also be used for updating data on the server or creating new resources.\n",
    "\n",
    "In summary, GET is used for retrieving data, while POST is used for submitting data. GET requests should not have side effects on the server, while POST requests can modify the server's state."
   ]
  },
  {
   "cell_type": "code",
   "execution_count": null,
   "id": "4156ae56",
   "metadata": {},
   "outputs": [],
   "source": []
  },
  {
   "cell_type": "raw",
   "id": "8778b15c",
   "metadata": {},
   "source": [
    "Q2. Why is request used in Flask?"
   ]
  },
  {
   "cell_type": "markdown",
   "id": "bd228b3a",
   "metadata": {},
   "source": [
    "In Flask, the request object is used to access incoming request data that is sent by a client (e.g., a web browser). The request object contains information about the request, such as the HTTP method used (e.g., GET, POST), the headers sent with the request, and any data sent in the request body.\n",
    "\n",
    "The request object is an essential part of building web applications in Flask because it allows developers to retrieve user input and make decisions based on that input. For example, a web form submitted using a POST request will have its data stored in the request object, which can then be accessed by the Flask application to process the form data and take appropriate actions.\n",
    "\n",
    "Some common use cases of the request object in Flask are:\n",
    "\n",
    "- Retrieving data submitted through a form\n",
    "- Accessing the user's IP address\n",
    "- Accessing the headers of the request\n",
    "- Checking the HTTP method used (e.g., GET, POST)\n",
    "- Retrieving query parameters from a URL\n",
    "Overall, the request object is an essential component of building web applications in Flask, as it provides access to the incoming request data, allowing developers to create dynamic and interactive applications."
   ]
  },
  {
   "cell_type": "code",
   "execution_count": null,
   "id": "01fad231",
   "metadata": {},
   "outputs": [],
   "source": []
  },
  {
   "cell_type": "raw",
   "id": "b170b90b",
   "metadata": {},
   "source": [
    "Q3. Why is redirect() used in Flask?"
   ]
  },
  {
   "cell_type": "markdown",
   "id": "86a13c46",
   "metadata": {},
   "source": [
    "In Flask, the redirect() function is used to redirect a client to a different URL. This function is commonly used in web applications to redirect a user after a form submission, after login or logout, or to handle various other types of redirects.\n",
    "\n",
    "The redirect() function is useful because it allows developers to control the flow of the application by redirecting the user to a different page or URL. For example, after a form submission, a developer may want to redirect the user to a \"success\" page to confirm that the form was submitted successfully. Without the redirect() function, the user would remain on the same page, which may not provide any feedback about whether the form submission was successful."
   ]
  },
  {
   "cell_type": "code",
   "execution_count": null,
   "id": "cd0109f8",
   "metadata": {},
   "outputs": [
    {
     "name": "stdout",
     "output_type": "stream",
     "text": [
      " * Serving Flask app \"__main__\" (lazy loading)\n",
      " * Environment: production\n",
      "\u001b[31m   WARNING: This is a development server. Do not use it in a production deployment.\u001b[0m\n",
      "\u001b[2m   Use a production WSGI server instead.\u001b[0m\n",
      " * Debug mode: off\n"
     ]
    },
    {
     "name": "stderr",
     "output_type": "stream",
     "text": [
      " * Running on http://127.0.0.1:5000/ (Press CTRL+C to quit)\n"
     ]
    }
   ],
   "source": [
    "from flask import Flask, redirect, url_for\n",
    "\n",
    "app = Flask(__name__)\n",
    "\n",
    "@app.route('/')\n",
    "def home():\n",
    "    return redirect(url_for('about'))\n",
    "\n",
    "@app.route('/about')\n",
    "def about():\n",
    "    return 'This is the about page.'\n",
    "\n",
    "if __name__ == '__main__':\n",
    "    app.run()\n"
   ]
  },
  {
   "cell_type": "markdown",
   "id": "35c285d6",
   "metadata": {},
   "source": [
    "In this example, when the user navigates to the root URL (/), they will be redirected to the /about page using the redirect() function and the url_for() function. The url_for() function generates a URL for the specified function name (about in this case), which is then passed to the redirect() function.\n",
    "\n",
    "Overall, the redirect() function is an important feature in Flask that allows developers to create dynamic and interactive web applications by controlling the flow of the application through redirects."
   ]
  },
  {
   "cell_type": "code",
   "execution_count": null,
   "id": "951c36e6",
   "metadata": {},
   "outputs": [],
   "source": []
  },
  {
   "cell_type": "raw",
   "id": "5c4e6440",
   "metadata": {},
   "source": [
    "Q4. What are templates in Flask? Why is the render_template() function used?"
   ]
  },
  {
   "cell_type": "markdown",
   "id": "ad60b58d",
   "metadata": {},
   "source": [
    "Templates in Flask are files that define the structure and layout of web pages that are dynamically generated by the Flask application. Templates allow developers to separate the presentation logic from the application logic, making it easier to maintain and update the application.\n",
    "\n",
    "In Flask, the render_template() function is used to render templates and generate HTML pages that can be returned to the client's web browser. This function takes a template file as its argument and returns the HTML content generated by rendering the template with the specified variables."
   ]
  },
  {
   "cell_type": "code",
   "execution_count": null,
   "id": "721f1d3e",
   "metadata": {},
   "outputs": [],
   "source": [
    "from flask import Flask\n",
    "\n",
    "app = Flask(__name__)\n",
    "\n",
    "@app.route(\"/\")\n",
    "def hello_world():\n",
    "    return \"<h1>Hello, World!</h1>\"\n",
    "\n",
    "if __name__==\"__main__\":\n",
    "    app.run(host=\"0.0.0.0\")"
   ]
  },
  {
   "cell_type": "code",
   "execution_count": null,
   "id": "84c59ba3",
   "metadata": {},
   "outputs": [],
   "source": []
  },
  {
   "cell_type": "raw",
   "id": "6a61d1fe",
   "metadata": {},
   "source": [
    "Q5. Create a simple API. Use Postman to test it. Attach the screenshot of the output in the Jupyter Notebook."
   ]
  },
  {
   "cell_type": "code",
   "execution_count": null,
   "id": "528cd76a",
   "metadata": {},
   "outputs": [],
   "source": [
    "from flask import Flask\n",
    "\n",
    "app = Flask(__name__)\n",
    "\n",
    "@app.route(\"/\")\n",
    "def hello_world():\n",
    "    return \"<h1>Hello, World!</h1>\"\n",
    "\n",
    "if __name__==\"__main__\":\n",
    "    app.run(host=\"0.0.0.0\")"
   ]
  }
 ],
 "metadata": {
  "kernelspec": {
   "display_name": "Python 3 (ipykernel)",
   "language": "python",
   "name": "python3"
  },
  "language_info": {
   "codemirror_mode": {
    "name": "ipython",
    "version": 3
   },
   "file_extension": ".py",
   "mimetype": "text/x-python",
   "name": "python",
   "nbconvert_exporter": "python",
   "pygments_lexer": "ipython3",
   "version": "3.9.12"
  }
 },
 "nbformat": 4,
 "nbformat_minor": 5
}
