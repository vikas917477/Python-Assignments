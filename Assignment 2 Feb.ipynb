{
 "cells": [
  {
   "cell_type": "markdown",
   "id": "12d963ae",
   "metadata": {},
   "source": [
    "# Q1.  Explain with an example each when to use a for loop and a while loop\n",
    "- A for loop is used to iterate over a sequence (such as a list, tuple, or string) and execute a block of code for each item in the sequence.\n",
    "\n",
    "- A while loop, on the other hand, is used to repeatedly execute a block of code as long as a certain condition is met."
   ]
  },
  {
   "cell_type": "code",
   "execution_count": 2,
   "id": "232b2c47",
   "metadata": {},
   "outputs": [
    {
     "name": "stdout",
     "output_type": "stream",
     "text": [
      "['Potato', 'Tomato', 'Leadyfinger']\n",
      "['Potato', 'Tomato', 'Leadyfinger']\n",
      "['Potato', 'Tomato', 'Leadyfinger']\n"
     ]
    }
   ],
   "source": [
    "#For Loop Example\n",
    "Vegitables = ['Potato','Tomato','Leadyfinger']\n",
    "for vegitables in Vegitables:\n",
    "    print(Vegitables)"
   ]
  },
  {
   "cell_type": "code",
   "execution_count": 19,
   "id": "57c84e4b",
   "metadata": {},
   "outputs": [
    {
     "name": "stdout",
     "output_type": "stream",
     "text": [
      "2\n",
      "4\n",
      "6\n",
      "8\n",
      "10\n",
      "12\n",
      "14\n",
      "16\n",
      "18\n",
      "20\n"
     ]
    }
   ],
   "source": [
    "#While Loop Example\n",
    "count = 2 \n",
    "while count < 21:\n",
    "    print(count)\n",
    "    count += 2"
   ]
  },
  {
   "cell_type": "markdown",
   "id": "16b32611",
   "metadata": {},
   "source": [
    "# Q2.  Write a python program to print the sum and product of the first 10 natural numbers using for \n",
    "and while loop."
   ]
  },
  {
   "cell_type": "code",
   "execution_count": 5,
   "id": "b42639d8",
   "metadata": {},
   "outputs": [
    {
     "name": "stdout",
     "output_type": "stream",
     "text": [
      "Sum of first 10 natural numbers using for loop: 55\n",
      "Product of first 10 natural numbers using for loop: 3628800\n"
     ]
    }
   ],
   "source": [
    "# Using for loop\n",
    "sum = 0\n",
    "product = 1\n",
    "\n",
    "for i in range(1, 11):\n",
    "    sum += i\n",
    "    product *= i\n",
    "\n",
    "print(\"Sum of first 10 natural numbers using for loop:\", sum)\n",
    "print(\"Product of first 10 natural numbers using for loop:\", product)\n"
   ]
  },
  {
   "cell_type": "code",
   "execution_count": 6,
   "id": "c83e362e",
   "metadata": {
    "scrolled": true
   },
   "outputs": [
    {
     "name": "stdout",
     "output_type": "stream",
     "text": [
      "Sum of first 10 natural numbers using while loop: 55\n",
      "Product of first 10 natural numbers using while loop: 3628800\n"
     ]
    }
   ],
   "source": [
    "# Using while loop\n",
    "sum = 0\n",
    "i = 1\n",
    "product = 1\n",
    "\n",
    "while i <= 10:\n",
    "    sum += i\n",
    "    product *= i\n",
    "    i += 1\n",
    "\n",
    "print(\"Sum of first 10 natural numbers using while loop:\", sum)\n",
    "print(\"Product of first 10 natural numbers using while loop:\", product)"
   ]
  },
  {
   "cell_type": "code",
   "execution_count": null,
   "id": "85ff0c77",
   "metadata": {},
   "outputs": [],
   "source": []
  },
  {
   "cell_type": "markdown",
   "id": "e3ce535a",
   "metadata": {},
   "source": [
    "# Q3. Create a python program to compute the electricity bill for a household.\n",
    "The per-unit charges in rupees are as follows: For the first 100 units, the user will be charged Rs. 4.5 per \n",
    "unit, for the next 100 units, the user will be charged Rs. 6 per unit, and for the next 100 units, the user will \n",
    "be charged Rs. 10 per unit, After 300 units and above the user will be charged Rs. 20 per unit.\n",
    "\n",
    "\n",
    "You are required to take the units of electricity consumed in a month from the user as input.\n",
    "\n",
    "\n",
    "Your program must pass this test case: when the unit of electricity consumed by the user in a month is \n",
    "310, the total electricity bill should be 2250"
   ]
  },
  {
   "cell_type": "code",
   "execution_count": 9,
   "id": "b77896ce",
   "metadata": {},
   "outputs": [
    {
     "name": "stdout",
     "output_type": "stream",
     "text": [
      "Enter the number of units consumed: 100\n",
      "The total electricity bill is: 450.0\n"
     ]
    }
   ],
   "source": [
    "def calculate_bill(units):\n",
    "    if units <= 100:\n",
    "        bill = units * 4.5\n",
    "    elif units <= 200:\n",
    "        bill = 100 * 4.5 + (units - 100) * 6\n",
    "    elif units <= 300:\n",
    "        bill = 100 * 4.5 + 100 * 6 + (units - 200) * 10\n",
    "    else:\n",
    "        bill = 100 * 4.5 + 100 * 6 + 100 * 10 + (units - 300) * 20\n",
    "    return bill\n",
    "\n",
    "units = int(input(\"Enter the number of units consumed: \"))\n",
    "bill = calculate_bill(units)\n",
    "print(\"The total electricity bill is:\", bill)\n"
   ]
  },
  {
   "cell_type": "markdown",
   "id": "383009a0",
   "metadata": {},
   "source": [
    "# Q4. Create a list of numbers from 1 to 100. Use for loop and while loop to calculate the cube of each \n",
    "number and if the cube of that number is divisible by 4 or 5 then append that number in a list and print \n",
    "that list"
   ]
  },
  {
   "cell_type": "code",
   "execution_count": 8,
   "id": "c1d08769",
   "metadata": {},
   "outputs": [
    {
     "name": "stdout",
     "output_type": "stream",
     "text": [
      "Numbers using for loop: [2, 4, 5, 6, 8, 10, 12, 14, 15, 16, 18, 20, 22, 24, 25, 26, 28, 30, 32, 34, 35, 36, 38, 40, 42, 44, 45, 46, 48, 50, 52, 54, 55, 56, 58, 60, 62, 64, 65, 66, 68, 70, 72, 74, 75, 76, 78, 80, 82, 84, 85, 86, 88, 90, 92, 94, 95, 96, 98, 100]\n",
      "Numbers using while loop: [2, 4, 5, 6, 8, 10, 12, 14, 15, 16, 18, 20, 22, 24, 25, 26, 28, 30, 32, 34, 35, 36, 38, 40, 42, 44, 45, 46, 48, 50, 52, 54, 55, 56, 58, 60, 62, 64, 65, 66, 68, 70, 72, 74, 75, 76, 78, 80, 82, 84, 85, 86, 88, 90, 92, 94, 95, 96, 98, 100]\n"
     ]
    }
   ],
   "source": [
    "# Using for loop\n",
    "numbers = []\n",
    "for i in range(1, 101):\n",
    "    cube = i**3\n",
    "    if cube % 4 == 0 or cube % 5 == 0:\n",
    "        numbers.append(i)\n",
    "\n",
    "print(\"Numbers using for loop:\", numbers)\n",
    "\n",
    "# Using while loop\n",
    "numbers = []\n",
    "i = 1\n",
    "while i <= 100:\n",
    "    cube = i**3\n",
    "    if cube % 4 == 0 or cube % 5 == 0:\n",
    "        numbers.append(i)\n",
    "    i += 1\n",
    "\n",
    "print(\"Numbers using while loop:\", numbers)\n"
   ]
  },
  {
   "cell_type": "markdown",
   "id": "ac3294fa",
   "metadata": {},
   "source": [
    "Facts:\n",
    "- This code first defines a list numbers to store the numbers that meet the conditions. Then, it uses a for loop to iterate through the numbers from 1 to 100 and calculates the cube of each number. If the cube is divisible by 4 or 5, it appends the number to the numbers list. After the for loop, the final numbers list is printed.\n",
    "\n",
    "- The same thing is repeated using a while loop. The i variable is used to keep track of the current number, and the loop continues while i is less than or equal to 100. The cube of the current number is calculated and the number is appended to the numbers list if it meets the conditions. The value of i is incremented at the end of each iteration. Finally, the final numbers list is printed."
   ]
  },
  {
   "cell_type": "markdown",
   "id": "1714168c",
   "metadata": {},
   "source": [
    "# Q5.  Write a program to filter count vowels in the below-given string.\n",
    "\n",
    "string = \"I want to become a data scientist\""
   ]
  },
  {
   "cell_type": "code",
   "execution_count": 7,
   "id": "ac7fc3d8",
   "metadata": {},
   "outputs": [
    {
     "name": "stdout",
     "output_type": "stream",
     "text": [
      "Number of vowels in the given string: 12\n"
     ]
    }
   ],
   "source": [
    "def count_vowels(string):\n",
    "    vowels = \"aeiouAEIOU\"\n",
    "    count = 0\n",
    "    for char in string:\n",
    "        if char in vowels:\n",
    "            count += 1\n",
    "    return count\n",
    "\n",
    "string = \"I want to become a data scientist\"\n",
    "print(\"Number of vowels in the given string:\", count_vowels(string))"
   ]
  },
  {
   "cell_type": "markdown",
   "id": "3a22f0b9",
   "metadata": {},
   "source": [
    "This code defines a function count_vowels that takes a string as input and returns the number of vowels in the string. The function uses a for loop to iterate through the characters in the string, and it checks if each character is a vowel by checking if it is in the string vowels. If a character is a vowel, the function increments the count."
   ]
  },
  {
   "cell_type": "code",
   "execution_count": null,
   "id": "58686cf4",
   "metadata": {},
   "outputs": [],
   "source": []
  }
 ],
 "metadata": {
  "kernelspec": {
   "display_name": "Python 3 (ipykernel)",
   "language": "python",
   "name": "python3"
  },
  "language_info": {
   "codemirror_mode": {
    "name": "ipython",
    "version": 3
   },
   "file_extension": ".py",
   "mimetype": "text/x-python",
   "name": "python",
   "nbconvert_exporter": "python",
   "pygments_lexer": "ipython3",
   "version": "3.9.12"
  }
 },
 "nbformat": 4,
 "nbformat_minor": 5
}
